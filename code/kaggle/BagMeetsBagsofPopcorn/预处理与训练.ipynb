{
 "cells": [
  {
   "cell_type": "code",
   "execution_count": 62,
   "metadata": {},
   "outputs": [
    {
     "name": "stdout",
     "output_type": "stream",
     "text": [
      "stuff going moment mj started listening music watching odd documentary watched wiz watched moonwalker maybe want get certain insight guy thought really cool eighties maybe make mind whether guilty innocent moonwalker part biography part feature film remember going see cinema originally released subtle messages mj feeling towards press also obvious message drugs bad kay visually impressive course michael jackson unless remotely like mj anyway going hate find boring may call mj egotist consenting making movie mj fans would say made fans true really nice actual feature film bit finally starts minutes excluding smooth criminal sequence joe pesci convincing psychopathic powerful drug lord wants mj dead bad beyond mj overheard plans nah joe pesci character ranted wanted people know supplying drugs etc dunno maybe hates mj music lots cool things like mj turning car robot whole speed demon sequence also director must patience saint came filming kiddy bad sequence usually directors hate working one kid let alone whole bunch performing complex dance scene bottom line movie people like mj one level another think people stay away try give wholesome message ironically mj bestest buddy movie girl michael jackson truly one talented people ever grace planet guilty well attention gave subject hmmm well know people different behind closed doors know fact either extremely nice stupid guy one sickest liars hope latter\n"
     ]
    }
   ],
   "source": [
    "import pandas as pd\n",
    "\n",
    "train = pd.read_csv('./data/clean_labeledTrainData.tsv', delimiter='\\t')\n",
    "test =  pd.read_csv('./data/clean_testData.tsv', delimiter='\\t')\n",
    "\n",
    "train.head()\n",
    "\n",
    "\n",
    "print(train['review'][0])"
   ]
  },
  {
   "cell_type": "code",
   "execution_count": 57,
   "metadata": {},
   "outputs": [
    {
     "data": {
      "text/html": [
       "<div>\n",
       "<style scoped>\n",
       "    .dataframe tbody tr th:only-of-type {\n",
       "        vertical-align: middle;\n",
       "    }\n",
       "\n",
       "    .dataframe tbody tr th {\n",
       "        vertical-align: top;\n",
       "    }\n",
       "\n",
       "    .dataframe thead th {\n",
       "        text-align: right;\n",
       "    }\n",
       "</style>\n",
       "<table border=\"1\" class=\"dataframe\">\n",
       "  <thead>\n",
       "    <tr style=\"text-align: right;\">\n",
       "      <th></th>\n",
       "      <th>id</th>\n",
       "      <th>review</th>\n",
       "    </tr>\n",
       "  </thead>\n",
       "  <tbody>\n",
       "    <tr>\n",
       "      <th>0</th>\n",
       "      <td>12311_10</td>\n",
       "      <td>naturally film main themes mortality nostalgia...</td>\n",
       "    </tr>\n",
       "    <tr>\n",
       "      <th>1</th>\n",
       "      <td>8348_2</td>\n",
       "      <td>movie disaster within disaster film full great...</td>\n",
       "    </tr>\n",
       "    <tr>\n",
       "      <th>2</th>\n",
       "      <td>5828_4</td>\n",
       "      <td>movie kids saw tonight child loved one point k...</td>\n",
       "    </tr>\n",
       "    <tr>\n",
       "      <th>3</th>\n",
       "      <td>7186_2</td>\n",
       "      <td>afraid dark left impression several different ...</td>\n",
       "    </tr>\n",
       "    <tr>\n",
       "      <th>4</th>\n",
       "      <td>12128_7</td>\n",
       "      <td>accurate depiction small time mob life filmed ...</td>\n",
       "    </tr>\n",
       "  </tbody>\n",
       "</table>\n",
       "</div>"
      ],
      "text/plain": [
       "         id                                             review\n",
       "0  12311_10  naturally film main themes mortality nostalgia...\n",
       "1    8348_2  movie disaster within disaster film full great...\n",
       "2    5828_4  movie kids saw tonight child loved one point k...\n",
       "3    7186_2  afraid dark left impression several different ...\n",
       "4   12128_7  accurate depiction small time mob life filmed ..."
      ]
     },
     "execution_count": 57,
     "metadata": {},
     "output_type": "execute_result"
    }
   ],
   "source": [
    "test.head()"
   ]
  },
  {
   "cell_type": "code",
   "execution_count": 74,
   "metadata": {},
   "outputs": [],
   "source": [
    "from bs4 import BeautifulSoup\n",
    "import re\n",
    "from nltk.corpus import stopwords # 导入停用词\n",
    "\n",
    "def review_to_words(raw_review, remove_stop_words):\n",
    "    \"\"\"\n",
    "    数据预处理：提取、清晰、分词\n",
    "    :param raw_review:\n",
    "    :return:\n",
    "    \"\"\"\n",
    "    \n",
    "    # 去除html标签\n",
    "    review_text = BeautifulSoup(raw_review, \"html.parser\").get_text()\n",
    "    # 去除非字母\n",
    "    letter_only = re.sub('[^a-zA-Z]', ' ', review_text)\n",
    "    # 转化成小写字母\n",
    "    words = letter_only.lower().split()\n",
    "    if  remove_stop_words:\n",
    "        stop_words =  set(stopwords.words('english'))\n",
    "        # 去除停用词\n",
    "        words = [w for w in words if not w in stop_words]\n",
    "    return words\n",
    "\n",
    "\n",
    "# 对train 和test分别进行上述处理\n",
    "x_train = []\n",
    "for review in train['review']:\n",
    "    x_train.append(review)\n",
    "\n",
    "x_test = []\n",
    "for review in test['review']:\n",
    "    x_test.append(review)\n",
    "\n",
    "y_train = train['sentiment']"
   ]
  },
  {
   "cell_type": "code",
   "execution_count": 75,
   "metadata": {
    "scrolled": true
   },
   "outputs": [
    {
     "name": "stdout",
     "output_type": "stream",
     "text": [
      "stuff going moment mj started listening music watching odd documentary watched wiz watched moonwalker maybe want get certain insight guy thought really cool eighties maybe make mind whether guilty innocent moonwalker part biography part feature film remember going see cinema originally released subtle messages mj feeling towards press also obvious message drugs bad kay visually impressive course michael jackson unless remotely like mj anyway going hate find boring may call mj egotist consenting making movie mj fans would say made fans true really nice actual feature film bit finally starts minutes excluding smooth criminal sequence joe pesci convincing psychopathic powerful drug lord wants mj dead bad beyond mj overheard plans nah joe pesci character ranted wanted people know supplying drugs etc dunno maybe hates mj music lots cool things like mj turning car robot whole speed demon sequence also director must patience saint came filming kiddy bad sequence usually directors hate working one kid let alone whole bunch performing complex dance scene bottom line movie people like mj one level another think people stay away try give wholesome message ironically mj bestest buddy movie girl michael jackson truly one talented people ever grace planet guilty well attention gave subject hmmm well know people different behind closed doors know fact either extremely nice stupid guy one sickest liars hope latter\n"
     ]
    }
   ],
   "source": [
    "print(x_train[0])\n"
   ]
  },
  {
   "cell_type": "markdown",
   "metadata": {},
   "source": [
    "## 特征处理\n",
    "\n",
    "特征处理 计算机无法直接处理词语，需要将文本进行向量化常见的向量化方式有一下几种\n",
    "* one-hot\n",
    "* 单词计数：from sklearn.feature_extraction.text import CountVectorizer \n",
    "* TF-IDF from sklearn.feature_extraction.text import TfidfVVectorizer \n",
    "* word2vec： gensim\n",
    "\n",
    "这里先用 CountVectorizer 处理， 然后再试着用TfidfVVectorizer处理"
   ]
  },
  {
   "cell_type": "code",
   "execution_count": 67,
   "metadata": {},
   "outputs": [
    {
     "name": "stdout",
     "output_type": "stream",
     "text": [
      "stuff going moment mj started listening music watching odd documentary watched wiz watched moonwalker maybe want get certain insight guy thought really cool eighties maybe make mind whether guilty innocent moonwalker part biography part feature film remember going see cinema originally released subtle messages mj feeling towards press also obvious message drugs bad kay visually impressive course michael jackson unless remotely like mj anyway going hate find boring may call mj egotist consenting making movie mj fans would say made fans true really nice actual feature film bit finally starts minutes excluding smooth criminal sequence joe pesci convincing psychopathic powerful drug lord wants mj dead bad beyond mj overheard plans nah joe pesci character ranted wanted people know supplying drugs etc dunno maybe hates mj music lots cool things like mj turning car robot whole speed demon sequence also director must patience saint came filming kiddy bad sequence usually directors hate working one kid let alone whole bunch performing complex dance scene bottom line movie people like mj one level another think people stay away try give wholesome message ironically mj bestest buddy movie girl michael jackson truly one talented people ever grace planet guilty well attention gave subject hmmm well know people different behind closed doors know fact either extremely nice stupid guy one sickest liars hope latter\n"
     ]
    }
   ],
   "source": [
    "from sklearn.feature_extraction.text import CountVectorizer\n",
    "vectorizer =  CountVectorizer(analyzer='word',\n",
    "                              tokenizer=None,\n",
    "                              preprocessor=None,\n",
    "                              stop_words=None,\n",
    "                              max_features=5000)\n",
    "\n",
    "x_train_features= vectorizer.fit_transform(x_train)\n",
    "x_test_features = vectorizer.fit_transform(x_test)"
   ]
  },
  {
   "cell_type": "code",
   "execution_count": 69,
   "metadata": {},
   "outputs": [
    {
     "name": "stdout",
     "output_type": "stream",
     "text": [
      "开始训练...\n",
      "多项式贝叶斯10折交叉得分 0.916996896\n"
     ]
    }
   ],
   "source": [
    "# 使用CountVectorizer 训练朴素贝叶斯\n",
    "\n",
    "\n",
    "from sklearn.naive_bayes import MultinomialNB\n",
    "\n",
    "print(\"开始训练...\")\n",
    "model_NB = MultinomialNB()\n",
    "\n",
    "MultinomialNB(alpha=1.0, class_prior=None, fit_prior=True) #\n",
    "model_NB.fit(x_train_features, y_train) # 训练\n",
    "from sklearn.cross_validation import cross_val_score\n",
    "print(\"多项式贝叶斯10折交叉得分\",\n",
    "      np.mean(cross_val_score(model_NB, x_train_features, y_train, cv=10, scoring='roc_auc')))\n",
    "\n",
    "# 效果比使用Tfidf向量化效果差很多\n"
   ]
  },
  {
   "cell_type": "code",
   "execution_count": 77,
   "metadata": {},
   "outputs": [
    {
     "ename": "TypeError",
     "evalue": "sparse matrix length is ambiguous; use getnnz() or shape[0]",
     "output_type": "error",
     "traceback": [
      "\u001b[0;31m---------------------------------------------------------------------------\u001b[0m",
      "\u001b[0;31mTypeError\u001b[0m                                 Traceback (most recent call last)",
      "\u001b[0;32m<ipython-input-77-b4cbffe057a7>\u001b[0m in \u001b[0;36m<module>\u001b[0;34m()\u001b[0m\n\u001b[1;32m     13\u001b[0m                          stop_words = 'english')\n\u001b[1;32m     14\u001b[0m \u001b[0mdata_all\u001b[0m \u001b[0;34m=\u001b[0m  \u001b[0mx_train\u001b[0m \u001b[0;34m+\u001b[0m  \u001b[0mx_test\u001b[0m\u001b[0;34m\u001b[0m\u001b[0m\n\u001b[0;32m---> 15\u001b[0;31m \u001b[0mlen_train\u001b[0m \u001b[0;34m=\u001b[0m \u001b[0mlen\u001b[0m\u001b[0;34m(\u001b[0m\u001b[0mx_train\u001b[0m\u001b[0;34m)\u001b[0m\u001b[0;34m\u001b[0m\u001b[0m\n\u001b[0m\u001b[1;32m     16\u001b[0m \u001b[0;34m\u001b[0m\u001b[0m\n\u001b[1;32m     17\u001b[0m \u001b[0mtfidf\u001b[0m\u001b[0;34m.\u001b[0m\u001b[0mfit\u001b[0m\u001b[0;34m(\u001b[0m\u001b[0mdata_all\u001b[0m\u001b[0;34m)\u001b[0m \u001b[0;31m# 拟合\u001b[0m\u001b[0;34m\u001b[0m\u001b[0m\n",
      "\u001b[0;32m/anaconda3/lib/python3.6/site-packages/scipy/sparse/base.py\u001b[0m in \u001b[0;36m__len__\u001b[0;34m(self)\u001b[0m\n\u001b[1;32m    264\u001b[0m     \u001b[0;31m# non-zeros is more important.  For now, raise an exception!\u001b[0m\u001b[0;34m\u001b[0m\u001b[0;34m\u001b[0m\u001b[0m\n\u001b[1;32m    265\u001b[0m     \u001b[0;32mdef\u001b[0m \u001b[0m__len__\u001b[0m\u001b[0;34m(\u001b[0m\u001b[0mself\u001b[0m\u001b[0;34m)\u001b[0m\u001b[0;34m:\u001b[0m\u001b[0;34m\u001b[0m\u001b[0m\n\u001b[0;32m--> 266\u001b[0;31m         raise TypeError(\"sparse matrix length is ambiguous; use getnnz()\"\n\u001b[0m\u001b[1;32m    267\u001b[0m                         \" or shape[0]\")\n\u001b[1;32m    268\u001b[0m \u001b[0;34m\u001b[0m\u001b[0m\n",
      "\u001b[0;31mTypeError\u001b[0m: sparse matrix length is ambiguous; use getnnz() or shape[0]"
     ]
    }
   ],
   "source": [
    "#使用Tfidf\n",
    "from sklearn.feature_extraction.text import TfidfVectorizer\n",
    "\n",
    "tfidf  = TfidfVectorizer(min_df=2,#最小支持度\n",
    "                         max_features=None,\n",
    "                         strip_accents='unicode',\n",
    "                         analyzer='word',\n",
    "                         token_pattern=r'\\w{1,}',\n",
    "                         ngram_range=(1, 3),  # 二元文法模型\n",
    "                         use_idf=1,\n",
    "                         smooth_idf=1,\n",
    "                         sublinear_tf=1,\n",
    "                         stop_words = 'english')\n",
    "data_all =  x_train +  x_test\n",
    "len_train = len(x_train)\n",
    "\n",
    "tfidf.fit(data_all) # 拟合\n",
    "data_all = tfidf.transform(data_all) #转化\n",
    "\n",
    "#回复成训练集和测试集\n",
    "\n",
    "x_train = data_all[:len_train]\n",
    "x_test = data_all[len_train:]\n",
    "\n",
    "print(\"tf-idf 处理结束\")\n",
    "\n",
    "\n"
   ]
  },
  {
   "cell_type": "code",
   "execution_count": 41,
   "metadata": {},
   "outputs": [
    {
     "name": "stdout",
     "output_type": "stream",
     "text": [
      "多项式贝叶斯10折交叉得分 0.9506237439999999\n"
     ]
    }
   ],
   "source": [
    "# 使用朴素贝叶斯进行训练\n",
    "from sklearn.naive_bayes import MultinomialNB \n",
    "model_NB =  MultinomialNB()\n",
    "model_NB.fit(x_train, y_train) # 训练\n",
    "MultinomialNB(alpha=1.0, class_prior=None, fit_prior=True) #\n",
    "\n",
    "from sklearn.cross_validation import cross_val_score\n",
    "print(\"多项式贝叶斯10折交叉得分\",\n",
    "      np.mean(cross_val_score(model_NB, x_train, y_train, cv=10, scoring='roc_auc')))\n",
    "\n",
    "\n"
   ]
  },
  {
   "cell_type": "code",
   "execution_count": 39,
   "metadata": {},
   "outputs": [
    {
     "name": "stdout",
     "output_type": "stream",
     "text": [
      "预测结束、保存结果...\n",
      "done， byebye!!!\n"
     ]
    }
   ],
   "source": [
    "test_prediction = np.array(model_NB.predict(x_test))\n",
    "print(\"预测结束、保存结果...\")\n",
    "mode_output = pd.DataFrame(data=test_prediction, columns=['sentiment'])\n",
    "mode_output['id'] = test['id']\n",
    "mode_output = mode_output[['id','sentiment']]\n",
    "mode_output.to_csv('MultinomialNB_prediction.csv', index = False)\n",
    "print(\"done， byebye!!!\")"
   ]
  },
  {
   "cell_type": "code",
   "execution_count": null,
   "metadata": {},
   "outputs": [],
   "source": [
    "# 使用逻辑斯谛回归\n",
    "from sklearn.linear_model import LogisticRegression\n",
    "\n",
    "# 网格搜索超参数\n",
    "from sklearn.grid_search import GridSearchCV\n",
    "\n",
    "grid_values ={'C':[30]}\n",
    "model_LR = GridSearchCV(LogisticRegression(penalty = 'L2',\n",
    "                                              dual = True,\n",
    "                                           random_state = 0), \n",
    "                        grid_values, \n",
    "                        scoring = 'roc_auc', \n",
    "                        cv = 20)\n",
    "\n",
    "model_LR.fit(x_train,y_train)\n",
    "\n",
    "#20折交叉\n",
    "GridSearchCV(cv=20, estimator=LogisticRegression(C=1.0, class_weight=None, dual=True,\n",
    "             fit_intercept=True, intercept_scaling=1, penalty='L2', random_state=0, tol=0.0001),\n",
    "        fit_params={}, iid=True, n_jobs=1,\n",
    "        param_grid={'C': [30]}, pre_dispatch='2*n_jobs', refit=True,\n",
    "        scoring='roc_auc', verbose=0)\n",
    "#输出结果\n",
    "print(model_LR.grid_scores_)\n"
   ]
  },
  {
   "cell_type": "code",
   "execution_count": null,
   "metadata": {},
   "outputs": [],
   "source": []
  }
 ],
 "metadata": {
  "kernelspec": {
   "display_name": "Python 3",
   "language": "python",
   "name": "python3"
  },
  "language_info": {
   "codemirror_mode": {
    "name": "ipython",
    "version": 3
   },
   "file_extension": ".py",
   "mimetype": "text/x-python",
   "name": "python",
   "nbconvert_exporter": "python",
   "pygments_lexer": "ipython3",
   "version": "3.6.4"
  }
 },
 "nbformat": 4,
 "nbformat_minor": 2
}
