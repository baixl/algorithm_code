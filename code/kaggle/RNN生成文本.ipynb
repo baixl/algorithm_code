{
 "cells": [
  {
   "cell_type": "code",
   "execution_count": 48,
   "metadata": {},
   "outputs": [],
   "source": [
    "import numpy as np\n",
    "from keras.models import Sequential\n",
    "from keras.layers import Dense, Dropout, LSTM\n",
    "from keras.callbacks import ModelCheckpoint\n",
    "from keras.utils import np_utils"
   ]
  },
  {
   "cell_type": "markdown",
   "metadata": {},
   "source": [
    "# 1 读入数据\n",
    "读入文本，并小写化, one-hot"
   ]
  },
  {
   "cell_type": "code",
   "execution_count": 49,
   "metadata": {},
   "outputs": [],
   "source": [
    "raw_text = open('./test.txt').read()\n",
    "raw_text =  raw_text.lower()"
   ]
  },
  {
   "cell_type": "code",
   "execution_count": 50,
   "metadata": {},
   "outputs": [],
   "source": [
    "chars = sorted(set(raw_text))\n",
    "char_to_int =  dict((c, i) for i ,c in enumerate(chars))\n",
    "int_to_chars = dict((i,c) for i, c in enumerate(chars))"
   ]
  },
  {
   "cell_type": "code",
   "execution_count": 51,
   "metadata": {},
   "outputs": [
    {
     "data": {
      "text/plain": [
       "{0: '\\n',\n",
       " 1: ' ',\n",
       " 2: '!',\n",
       " 3: '#',\n",
       " 4: \"'\",\n",
       " 5: '(',\n",
       " 6: ')',\n",
       " 7: '*',\n",
       " 8: ',',\n",
       " 9: '-',\n",
       " 10: '.',\n",
       " 11: '0',\n",
       " 12: '1',\n",
       " 13: '2',\n",
       " 14: '3',\n",
       " 15: '4',\n",
       " 16: '5',\n",
       " 17: '6',\n",
       " 18: '7',\n",
       " 19: '8',\n",
       " 20: '9',\n",
       " 21: ':',\n",
       " 22: ';',\n",
       " 23: '?',\n",
       " 24: '[',\n",
       " 25: ']',\n",
       " 26: 'a',\n",
       " 27: 'b',\n",
       " 28: 'c',\n",
       " 29: 'd',\n",
       " 30: 'e',\n",
       " 31: 'f',\n",
       " 32: 'g',\n",
       " 33: 'h',\n",
       " 34: 'i',\n",
       " 35: 'j',\n",
       " 36: 'k',\n",
       " 37: 'l',\n",
       " 38: 'm',\n",
       " 39: 'n',\n",
       " 40: 'o',\n",
       " 41: 'p',\n",
       " 42: 'q',\n",
       " 43: 'r',\n",
       " 44: 's',\n",
       " 45: 't',\n",
       " 46: 'u',\n",
       " 47: 'v',\n",
       " 48: 'w',\n",
       " 49: 'x',\n",
       " 50: 'y',\n",
       " 51: 'z',\n",
       " 52: '“',\n",
       " 53: '”',\n",
       " 54: '\\ufeff'}"
      ]
     },
     "execution_count": 51,
     "metadata": {},
     "output_type": "execute_result"
    }
   ],
   "source": [
    "int_to_chars"
   ]
  },
  {
   "cell_type": "code",
   "execution_count": 52,
   "metadata": {},
   "outputs": [
    {
     "data": {
      "text/plain": [
       "(55, 19504)"
      ]
     },
     "execution_count": 52,
     "metadata": {},
     "output_type": "execute_result"
    }
   ],
   "source": [
    "len(chars), len(raw_text)"
   ]
  },
  {
   "cell_type": "markdown",
   "metadata": {},
   "source": [
    "在这片文章中，一共有60个字符\n",
    "\n",
    "我们的目标是，给了前置的字母后，下一个字母是什么？\n",
    "\n",
    "\n",
    "# 2 构造训练集、测试集\n",
    "\n",
    "需要把raw_text 编程可以用来训练的x，y\n",
    "x是前置字母，y是后一个字母\n"
   ]
  },
  {
   "cell_type": "code",
   "execution_count": 53,
   "metadata": {},
   "outputs": [],
   "source": [
    "seq_length = 100\n",
    "x =[]\n",
    "y= []\n",
    "for i in range(0,  len(raw_text) - seq_length):\n",
    "    given =  raw_text[i:i+seq_length]\n",
    "    predict = raw_text[i+seq_length]\n",
    "    x.append([char_to_int[char] for char in given])\n",
    "    y.append(char_to_int[predict])\n"
   ]
  },
  {
   "cell_type": "markdown",
   "metadata": {},
   "source": [
    "### 我们可以看看做好的数据集"
   ]
  },
  {
   "cell_type": "code",
   "execution_count": 54,
   "metadata": {
    "scrolled": true
   },
   "outputs": [
    {
     "name": "stdout",
     "output_type": "stream",
     "text": [
      "[[54, 45, 33, 30, 1, 41, 43, 40, 35, 30, 28, 45, 1, 32, 46, 45, 30, 39, 27, 30, 43, 32, 1, 30, 27, 40, 40, 36, 1, 40, 31, 1, 45, 33, 30, 1, 28, 43, 34, 44, 34, 44, 8, 1, 28, 40, 38, 41, 37, 30, 45, 30, 8, 1, 27, 50, 1, 48, 34, 39, 44, 45, 40, 39, 1, 28, 33, 46, 43, 28, 33, 34, 37, 37, 0, 24, 26, 46, 45, 33, 40, 43, 1, 34, 44, 1, 45, 33, 30, 1, 26, 38, 30, 43, 34, 28, 26, 39, 1, 48]]\n",
      "[34]\n"
     ]
    }
   ],
   "source": [
    "print(x[:1])\n",
    "print(y[:1])"
   ]
  },
  {
   "cell_type": "markdown",
   "metadata": {},
   "source": [
    "### 接下来的两步处理\n",
    " \n",
    "1 已经有了input的数字表达，我们要把它变成LSTM 需要的数组格式:[样本数，时间步伐，特征]      \n",
    "2 对于output，用one-hot做output的预测可以给我们更好的效果，相对于直接预测一个准确的y数值的话"
   ]
  },
  {
   "cell_type": "code",
   "execution_count": 55,
   "metadata": {},
   "outputs": [
    {
     "name": "stdout",
     "output_type": "stream",
     "text": [
      "[[0.81818182]\n",
      " [0.01818182]\n",
      " [0.58181818]\n",
      " [0.83636364]\n",
      " [0.81818182]\n",
      " [0.54545455]\n",
      " [0.70909091]\n",
      " [0.49090909]\n",
      " [0.54545455]\n",
      " [0.78181818]\n",
      " [0.58181818]\n",
      " [0.01818182]\n",
      " [0.54545455]\n",
      " [0.49090909]\n",
      " [0.72727273]\n",
      " [0.72727273]\n",
      " [0.65454545]\n",
      " [0.01818182]\n",
      " [0.72727273]\n",
      " [0.56363636]\n",
      " [0.01818182]\n",
      " [0.81818182]\n",
      " [0.6       ]\n",
      " [0.54545455]\n",
      " [0.01818182]\n",
      " [0.50909091]\n",
      " [0.78181818]\n",
      " [0.61818182]\n",
      " [0.8       ]\n",
      " [0.61818182]\n",
      " [0.8       ]\n",
      " [0.14545455]\n",
      " [0.01818182]\n",
      " [0.50909091]\n",
      " [0.72727273]\n",
      " [0.69090909]\n",
      " [0.74545455]\n",
      " [0.67272727]\n",
      " [0.54545455]\n",
      " [0.81818182]\n",
      " [0.54545455]\n",
      " [0.14545455]\n",
      " [0.01818182]\n",
      " [0.49090909]\n",
      " [0.90909091]\n",
      " [0.01818182]\n",
      " [0.87272727]\n",
      " [0.61818182]\n",
      " [0.70909091]\n",
      " [0.8       ]\n",
      " [0.81818182]\n",
      " [0.72727273]\n",
      " [0.70909091]\n",
      " [0.01818182]\n",
      " [0.50909091]\n",
      " [0.6       ]\n",
      " [0.83636364]\n",
      " [0.78181818]\n",
      " [0.50909091]\n",
      " [0.6       ]\n",
      " [0.61818182]\n",
      " [0.67272727]\n",
      " [0.67272727]\n",
      " [0.        ]\n",
      " [0.43636364]\n",
      " [0.47272727]\n",
      " [0.83636364]\n",
      " [0.81818182]\n",
      " [0.6       ]\n",
      " [0.72727273]\n",
      " [0.78181818]\n",
      " [0.01818182]\n",
      " [0.61818182]\n",
      " [0.8       ]\n",
      " [0.01818182]\n",
      " [0.81818182]\n",
      " [0.6       ]\n",
      " [0.54545455]\n",
      " [0.01818182]\n",
      " [0.47272727]\n",
      " [0.69090909]\n",
      " [0.54545455]\n",
      " [0.78181818]\n",
      " [0.61818182]\n",
      " [0.50909091]\n",
      " [0.47272727]\n",
      " [0.70909091]\n",
      " [0.01818182]\n",
      " [0.87272727]\n",
      " [0.61818182]\n",
      " [0.70909091]\n",
      " [0.8       ]\n",
      " [0.81818182]\n",
      " [0.72727273]\n",
      " [0.70909091]\n",
      " [0.01818182]\n",
      " [0.50909091]\n",
      " [0.6       ]\n",
      " [0.83636364]\n",
      " [0.78181818]]\n",
      "[0. 0. 0. 0. 0. 0. 0. 0. 0. 0. 0. 0. 0. 0. 0. 0. 0. 0. 0. 0. 0. 0. 0. 0.\n",
      " 0. 0. 0. 0. 1. 0. 0. 0. 0. 0. 0. 0. 0. 0. 0. 0. 0. 0. 0. 0. 0. 0. 0. 0.\n",
      " 0. 0. 0. 0. 0. 0.]\n"
     ]
    }
   ],
   "source": [
    "n_patterns =  len(x)\n",
    "n_vocab =  len(chars)\n",
    "# 把x变成LSTM需要的格式\n",
    "x=  np.reshape(x, [n_patterns,seq_length, 1]) # 1 表示每个特征用1维 表示（0-60）\n",
    "\n",
    "# normal 处理到0-1之间\n",
    "x =  x / float(n_vocab)\n",
    "# y转化成one-hot形式\n",
    "y = np_utils.to_categorical(y)\n",
    "print(x[11])\n",
    "print(y[11])"
   ]
  },
  {
   "cell_type": "code",
   "execution_count": 56,
   "metadata": {},
   "outputs": [
    {
     "data": {
      "text/plain": [
       "((19404, 100, 1), (19404, 54))"
      ]
     },
     "execution_count": 56,
     "metadata": {},
     "output_type": "execute_result"
    }
   ],
   "source": [
    "x.shape, y.shape"
   ]
  },
  {
   "cell_type": "markdown",
   "metadata": {},
   "source": [
    "# 3 模型构造"
   ]
  },
  {
   "cell_type": "code",
   "execution_count": 57,
   "metadata": {},
   "outputs": [],
   "source": [
    "model = Sequential()\n",
    "model.add(LSTM(128, input_shape=(x.shape[1], x.shape[2])))\n",
    "model.add(Dropout(0.2))\n",
    "\n",
    "# Dense 普通神经网络\n",
    "model.add(Dense(y.shape[1], activation='softmax'))\n",
    "model.compile(loss='categorical_crossentropy', optimizer='adam')"
   ]
  },
  {
   "cell_type": "markdown",
   "metadata": {},
   "source": [
    "## 跑模型"
   ]
  },
  {
   "cell_type": "code",
   "execution_count": 58,
   "metadata": {},
   "outputs": [
    {
     "name": "stdout",
     "output_type": "stream",
     "text": [
      "Epoch 1/3\n",
      "19404/19404 [==============================] - 266s 14ms/step - loss: 3.0969\n",
      "Epoch 2/3\n",
      "19404/19404 [==============================] - 280s 14ms/step - loss: 3.0528\n",
      "Epoch 3/3\n",
      "19404/19404 [==============================] - 262s 14ms/step - loss: 3.0141\n"
     ]
    },
    {
     "data": {
      "text/plain": [
       "<keras.callbacks.History at 0x1283536d8>"
      ]
     },
     "execution_count": 58,
     "metadata": {},
     "output_type": "execute_result"
    }
   ],
   "source": [
    "model.fit(x,y,epochs=3, batch_size=32)"
   ]
  },
  {
   "cell_type": "code",
   "execution_count": 69,
   "metadata": {},
   "outputs": [
    {
     "name": "stdout",
     "output_type": "stream",
     "text": [
      "[[2.80270949e-02 2.32596666e-01 1.37920585e-03 9.38836602e-05\n",
      "  4.31722170e-03 1.98163485e-04 1.80859119e-04 5.64400281e-04\n",
      "  9.11289547e-03 2.14155088e-03 9.01869126e-03 2.58445507e-04\n",
      "  1.64730416e-04 3.88212327e-04 1.68561310e-04 1.02739454e-04\n",
      "  2.01195144e-04 5.40220644e-04 9.38182347e-05 3.06231435e-04\n",
      "  1.03787119e-04 6.10166171e-04 3.59595899e-04 1.67671987e-03\n",
      "  8.18534463e-05 1.43622950e-04 4.70640585e-02 1.79775562e-02\n",
      "  3.69328111e-02 3.14375907e-02 6.13404065e-02 1.22343320e-02\n",
      "  1.96383428e-02 2.94149257e-02 3.11857387e-02 1.03970105e-03\n",
      "  7.23259943e-03 3.38479318e-02 1.97832994e-02 2.85461433e-02\n",
      "  2.81914752e-02 2.07826961e-02 7.50475738e-04 3.57069522e-02\n",
      "  7.05087855e-02 9.62974057e-02 1.24528455e-02 7.16165639e-03\n",
      "  3.02299857e-02 2.47567263e-03 1.21897468e-02 4.68607584e-04\n",
      "  6.39636861e-03 5.88131929e-03]]\n",
      "professor michael s. hart is the originator of the project, maybe it is wrong, who knows it ? but today, i will go to school for more classess. \n"
     ]
    }
   ],
   "source": [
    "def predict_next(input_array):\n",
    "    x= np.reshape(input_array, (1, seq_length, 1))\n",
    "    x=  x / float(n_vocab)\n",
    "    y= model.predict(x)\n",
    "    print(y)\n",
    "    \n",
    "    return y\n",
    " \n",
    "def string_to_index(raw_input):\n",
    "    res = []\n",
    "    for c in raw_input[(len(raw_input) - seq_length):]:\n",
    "        res.append(char_to_int[c])\n",
    "    return res\n",
    "def y_to_char(y):\n",
    "    largest_index = y.argmax()\n",
    "    c=  int_to_chars[largest_index]\n",
    "    return c\n",
    "\n",
    "def generate_article(init, rounds = 500):\n",
    "    in_string =  init.lower()\n",
    "    for i in range(rounds):\n",
    "#         print(string_to_index(in_string))\n",
    "        \n",
    "        n = y_to_char(predict_next(string_to_index(in_string)))\n",
    "#         print(n)\n",
    "        in_string += n\n",
    "        return in_string\n",
    "init  = \"Professor Michael S. Hart is the originator of the Project, maybe it is wrong, who knows it ? but today, i will go to school for more classess.\"\n",
    "article =  generate_article(init)\n",
    "print(article)\n"
   ]
  },
  {
   "cell_type": "code",
   "execution_count": null,
   "metadata": {},
   "outputs": [],
   "source": []
  }
 ],
 "metadata": {
  "kernelspec": {
   "display_name": "Python 3",
   "language": "python",
   "name": "python3"
  },
  "language_info": {
   "codemirror_mode": {
    "name": "ipython",
    "version": 3
   },
   "file_extension": ".py",
   "mimetype": "text/x-python",
   "name": "python",
   "nbconvert_exporter": "python",
   "pygments_lexer": "ipython3",
   "version": "3.6.4"
  }
 },
 "nbformat": 4,
 "nbformat_minor": 2
}
