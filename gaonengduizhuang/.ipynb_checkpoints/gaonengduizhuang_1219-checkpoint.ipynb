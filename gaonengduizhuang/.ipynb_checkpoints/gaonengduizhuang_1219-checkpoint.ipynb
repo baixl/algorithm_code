{
 "cells": [
  {
   "cell_type": "code",
   "execution_count": null,
   "metadata": {},
   "outputs": [],
   "source": []
  },
  {
   "cell_type": "code",
   "execution_count": 2,
   "metadata": {},
   "outputs": [
    {
     "ename": "OSError",
     "evalue": "dlopen(/Users/bai/opt/anaconda3/lib/python3.7/site-packages/lightgbm/lib_lightgbm.so, 6): Library not loaded: /usr/local/opt/libomp/lib/libomp.dylib\n  Referenced from: /Users/bai/opt/anaconda3/lib/python3.7/site-packages/lightgbm/lib_lightgbm.so\n  Reason: image not found",
     "output_type": "error",
     "traceback": [
      "\u001b[0;31m---------------------------------------------------------------------------\u001b[0m",
      "\u001b[0;31mOSError\u001b[0m                                   Traceback (most recent call last)",
      "\u001b[0;32m<ipython-input-2-56b7875124f0>\u001b[0m in \u001b[0;36m<module>\u001b[0;34m\u001b[0m\n\u001b[1;32m      6\u001b[0m \u001b[0;34m\u001b[0m\u001b[0m\n\u001b[1;32m      7\u001b[0m \u001b[0;32mimport\u001b[0m \u001b[0mimageio\u001b[0m\u001b[0;34m\u001b[0m\u001b[0;34m\u001b[0m\u001b[0m\n\u001b[0;32m----> 8\u001b[0;31m \u001b[0;32mimport\u001b[0m \u001b[0mlightgbm\u001b[0m \u001b[0;32mas\u001b[0m \u001b[0mlgb\u001b[0m\u001b[0;34m\u001b[0m\u001b[0;34m\u001b[0m\u001b[0m\n\u001b[0m\u001b[1;32m      9\u001b[0m \u001b[0;32mfrom\u001b[0m \u001b[0mlightgbm\u001b[0m \u001b[0;32mimport\u001b[0m \u001b[0mLGBMClassifier\u001b[0m\u001b[0;34m,\u001b[0m \u001b[0mLGBMRegressor\u001b[0m\u001b[0;34m\u001b[0m\u001b[0;34m\u001b[0m\u001b[0m\n\u001b[1;32m     10\u001b[0m \u001b[0;34m\u001b[0m\u001b[0m\n",
      "\u001b[0;32m~/opt/anaconda3/lib/python3.7/site-packages/lightgbm/__init__.py\u001b[0m in \u001b[0;36m<module>\u001b[0;34m\u001b[0m\n\u001b[1;32m      6\u001b[0m \u001b[0;32mfrom\u001b[0m \u001b[0m__future__\u001b[0m \u001b[0;32mimport\u001b[0m \u001b[0mabsolute_import\u001b[0m\u001b[0;34m\u001b[0m\u001b[0;34m\u001b[0m\u001b[0m\n\u001b[1;32m      7\u001b[0m \u001b[0;34m\u001b[0m\u001b[0m\n\u001b[0;32m----> 8\u001b[0;31m \u001b[0;32mfrom\u001b[0m \u001b[0;34m.\u001b[0m\u001b[0mbasic\u001b[0m \u001b[0;32mimport\u001b[0m \u001b[0mBooster\u001b[0m\u001b[0;34m,\u001b[0m \u001b[0mDataset\u001b[0m\u001b[0;34m\u001b[0m\u001b[0;34m\u001b[0m\u001b[0m\n\u001b[0m\u001b[1;32m      9\u001b[0m from .callback import (early_stopping, print_evaluation, record_evaluation,\n\u001b[1;32m     10\u001b[0m                        reset_parameter)\n",
      "\u001b[0;32m~/opt/anaconda3/lib/python3.7/site-packages/lightgbm/basic.py\u001b[0m in \u001b[0;36m<module>\u001b[0;34m\u001b[0m\n\u001b[1;32m     32\u001b[0m \u001b[0;34m\u001b[0m\u001b[0m\n\u001b[1;32m     33\u001b[0m \u001b[0;34m\u001b[0m\u001b[0m\n\u001b[0;32m---> 34\u001b[0;31m \u001b[0m_LIB\u001b[0m \u001b[0;34m=\u001b[0m \u001b[0m_load_lib\u001b[0m\u001b[0;34m(\u001b[0m\u001b[0;34m)\u001b[0m\u001b[0;34m\u001b[0m\u001b[0;34m\u001b[0m\u001b[0m\n\u001b[0m\u001b[1;32m     35\u001b[0m \u001b[0;34m\u001b[0m\u001b[0m\n\u001b[1;32m     36\u001b[0m \u001b[0;34m\u001b[0m\u001b[0m\n",
      "\u001b[0;32m~/opt/anaconda3/lib/python3.7/site-packages/lightgbm/basic.py\u001b[0m in \u001b[0;36m_load_lib\u001b[0;34m()\u001b[0m\n\u001b[1;32m     27\u001b[0m     \u001b[0;32mif\u001b[0m \u001b[0mlen\u001b[0m\u001b[0;34m(\u001b[0m\u001b[0mlib_path\u001b[0m\u001b[0;34m)\u001b[0m \u001b[0;34m==\u001b[0m \u001b[0;36m0\u001b[0m\u001b[0;34m:\u001b[0m\u001b[0;34m\u001b[0m\u001b[0;34m\u001b[0m\u001b[0m\n\u001b[1;32m     28\u001b[0m         \u001b[0;32mreturn\u001b[0m \u001b[0;32mNone\u001b[0m\u001b[0;34m\u001b[0m\u001b[0;34m\u001b[0m\u001b[0m\n\u001b[0;32m---> 29\u001b[0;31m     \u001b[0mlib\u001b[0m \u001b[0;34m=\u001b[0m \u001b[0mctypes\u001b[0m\u001b[0;34m.\u001b[0m\u001b[0mcdll\u001b[0m\u001b[0;34m.\u001b[0m\u001b[0mLoadLibrary\u001b[0m\u001b[0;34m(\u001b[0m\u001b[0mlib_path\u001b[0m\u001b[0;34m[\u001b[0m\u001b[0;36m0\u001b[0m\u001b[0;34m]\u001b[0m\u001b[0;34m)\u001b[0m\u001b[0;34m\u001b[0m\u001b[0;34m\u001b[0m\u001b[0m\n\u001b[0m\u001b[1;32m     30\u001b[0m     \u001b[0mlib\u001b[0m\u001b[0;34m.\u001b[0m\u001b[0mLGBM_GetLastError\u001b[0m\u001b[0;34m.\u001b[0m\u001b[0mrestype\u001b[0m \u001b[0;34m=\u001b[0m \u001b[0mctypes\u001b[0m\u001b[0;34m.\u001b[0m\u001b[0mc_char_p\u001b[0m\u001b[0;34m\u001b[0m\u001b[0;34m\u001b[0m\u001b[0m\n\u001b[1;32m     31\u001b[0m     \u001b[0;32mreturn\u001b[0m \u001b[0mlib\u001b[0m\u001b[0;34m\u001b[0m\u001b[0;34m\u001b[0m\u001b[0m\n",
      "\u001b[0;32m~/opt/anaconda3/lib/python3.7/ctypes/__init__.py\u001b[0m in \u001b[0;36mLoadLibrary\u001b[0;34m(self, name)\u001b[0m\n\u001b[1;32m    440\u001b[0m \u001b[0;34m\u001b[0m\u001b[0m\n\u001b[1;32m    441\u001b[0m     \u001b[0;32mdef\u001b[0m \u001b[0mLoadLibrary\u001b[0m\u001b[0;34m(\u001b[0m\u001b[0mself\u001b[0m\u001b[0;34m,\u001b[0m \u001b[0mname\u001b[0m\u001b[0;34m)\u001b[0m\u001b[0;34m:\u001b[0m\u001b[0;34m\u001b[0m\u001b[0;34m\u001b[0m\u001b[0m\n\u001b[0;32m--> 442\u001b[0;31m         \u001b[0;32mreturn\u001b[0m \u001b[0mself\u001b[0m\u001b[0;34m.\u001b[0m\u001b[0m_dlltype\u001b[0m\u001b[0;34m(\u001b[0m\u001b[0mname\u001b[0m\u001b[0;34m)\u001b[0m\u001b[0;34m\u001b[0m\u001b[0;34m\u001b[0m\u001b[0m\n\u001b[0m\u001b[1;32m    443\u001b[0m \u001b[0;34m\u001b[0m\u001b[0m\n\u001b[1;32m    444\u001b[0m \u001b[0mcdll\u001b[0m \u001b[0;34m=\u001b[0m \u001b[0mLibraryLoader\u001b[0m\u001b[0;34m(\u001b[0m\u001b[0mCDLL\u001b[0m\u001b[0;34m)\u001b[0m\u001b[0;34m\u001b[0m\u001b[0;34m\u001b[0m\u001b[0m\n",
      "\u001b[0;32m~/opt/anaconda3/lib/python3.7/ctypes/__init__.py\u001b[0m in \u001b[0;36m__init__\u001b[0;34m(self, name, mode, handle, use_errno, use_last_error)\u001b[0m\n\u001b[1;32m    362\u001b[0m \u001b[0;34m\u001b[0m\u001b[0m\n\u001b[1;32m    363\u001b[0m         \u001b[0;32mif\u001b[0m \u001b[0mhandle\u001b[0m \u001b[0;32mis\u001b[0m \u001b[0;32mNone\u001b[0m\u001b[0;34m:\u001b[0m\u001b[0;34m\u001b[0m\u001b[0;34m\u001b[0m\u001b[0m\n\u001b[0;32m--> 364\u001b[0;31m             \u001b[0mself\u001b[0m\u001b[0;34m.\u001b[0m\u001b[0m_handle\u001b[0m \u001b[0;34m=\u001b[0m \u001b[0m_dlopen\u001b[0m\u001b[0;34m(\u001b[0m\u001b[0mself\u001b[0m\u001b[0;34m.\u001b[0m\u001b[0m_name\u001b[0m\u001b[0;34m,\u001b[0m \u001b[0mmode\u001b[0m\u001b[0;34m)\u001b[0m\u001b[0;34m\u001b[0m\u001b[0;34m\u001b[0m\u001b[0m\n\u001b[0m\u001b[1;32m    365\u001b[0m         \u001b[0;32melse\u001b[0m\u001b[0;34m:\u001b[0m\u001b[0;34m\u001b[0m\u001b[0;34m\u001b[0m\u001b[0m\n\u001b[1;32m    366\u001b[0m             \u001b[0mself\u001b[0m\u001b[0;34m.\u001b[0m\u001b[0m_handle\u001b[0m \u001b[0;34m=\u001b[0m \u001b[0mhandle\u001b[0m\u001b[0;34m\u001b[0m\u001b[0;34m\u001b[0m\u001b[0m\n",
      "\u001b[0;31mOSError\u001b[0m: dlopen(/Users/bai/opt/anaconda3/lib/python3.7/site-packages/lightgbm/lib_lightgbm.so, 6): Library not loaded: /usr/local/opt/libomp/lib/libomp.dylib\n  Referenced from: /Users/bai/opt/anaconda3/lib/python3.7/site-packages/lightgbm/lib_lightgbm.so\n  Reason: image not found"
     ]
    }
   ],
   "source": [
    "import gc, os, random, pickle\n",
    "import pandas as pd\n",
    "import numpy as np\n",
    "import scipy\n",
    "from scipy import stats\n",
    "\n",
    "\n",
    "import lightgbm as lgb\n",
    "from lightgbm import LGBMClassifier, LGBMRegressor\n",
    "\n",
    "# 导入模型和sklearn\n",
    "import xgboost as xgb\n",
    "import catboost as cat\n",
    "\n",
    "from xgboost import XGBClassifier, XGBRegressor\n",
    "from catboost import CatBoostRegressor, CatBoostClassifier\n",
    "from sklearn.metrics import roc_auc_score, accuracy_score,auc, log_loss\n",
    "from sklearn.model_selection import train_test_split, KFold, StratifiedKFold\n",
    "from sklearn.preprocessing import OneHotEncoder, LabelEncoder\n",
    "from tqdm import tqdm \n",
    "import warnings\n",
    "warnings.filterwarnings(\"ignore\")\n",
    "\n",
    "\n",
    "pd.set_option('display.max_columns', None)\n",
    "#显示所有行\n",
    "pd.set_option('display.max_rows', 200)\n",
    "#设置value的显示长度为100，默认为50\n",
    "pd.set_option('max_colwidth',100)\n",
    "    \n",
    "'''seaborn and matplotlib'''\n",
    "import matplotlib.pyplot as plt\n",
    "plt.rcParams['font.sans-serif']=['SimHei']\n",
    "plt.rcParams['axes.unicode_minus']=False\n",
    "import seaborn as sns\n",
    "sns.set_style('whitegrid')\n",
    "%matplotlib inline\n",
    "\n",
    "'''plotly'''\n",
    "import plotly.offline as py\n",
    "from plotly.offline import iplot, init_notebook_mode\n",
    "import plotly.graph_objs as go\n",
    "\n",
    "'''按markdown格式展现数据'''\n",
    "init_notebook_mode(connected = True)\n",
    "from IPython.display import Markdown\n",
    "\n",
    "def bold(string):\n",
    "    display(Markdown(string))"
   ]
  },
  {
   "cell_type": "markdown",
   "metadata": {},
   "source": [
    "# EDA"
   ]
  },
  {
   "cell_type": "code",
   "execution_count": null,
   "metadata": {},
   "outputs": [],
   "source": [
    "train = pd.read_csv('./jet_simple_data/simple_train_R04_jet.csv')\n",
    "test =pd.read_csv('./jet_simple_data/simple_test_R04_jet.csv')"
   ]
  },
  {
   "cell_type": "code",
   "execution_count": null,
   "metadata": {},
   "outputs": [],
   "source": [
    "print(train.shape, test.shape)"
   ]
  },
  {
   "cell_type": "code",
   "execution_count": null,
   "metadata": {},
   "outputs": [],
   "source": [
    "train.head(2)"
   ]
  },
  {
   "cell_type": "code",
   "execution_count": null,
   "metadata": {},
   "outputs": [],
   "source": [
    "test.head(2)"
   ]
  },
  {
   "cell_type": "code",
   "execution_count": null,
   "metadata": {},
   "outputs": [],
   "source": [
    "print(train['label'].value_counts())\n",
    "# 21 多一点外，其他几类基本上差不多"
   ]
  },
  {
   "cell_type": "code",
   "execution_count": null,
   "metadata": {},
   "outputs": [],
   "source": [
    "train.info(verbose=True, null_counts=True)"
   ]
  },
  {
   "cell_type": "code",
   "execution_count": null,
   "metadata": {},
   "outputs": [],
   "source": [
    "# 缺失值分析\n",
    "# all_missing_columns = train.columns[train.isnull().sum() == train.shape[0]]\n",
    "train.isnull().sum() # 没有缺失值"
   ]
  },
  {
   "cell_type": "code",
   "execution_count": null,
   "metadata": {},
   "outputs": [],
   "source": [
    "onlyone_val_columns = train.columns[train.nunique(axis=0) == 1]\n",
    "\n",
    "print('共有 %i 个特征列仅仅只包含一个元素之，' % len(onlyone_val_columns))\n",
    "\n",
    "print('这些特征列为: ',onlyone_val_columns )"
   ]
  },
  {
   "cell_type": "code",
   "execution_count": null,
   "metadata": {},
   "outputs": [],
   "source": [
    "train.describe()"
   ]
  },
  {
   "cell_type": "code",
   "execution_count": null,
   "metadata": {},
   "outputs": [],
   "source": [
    "def replace(x) :\n",
    "    if x < 0.0:\n",
    "        return 0\n",
    "    else:\n",
    "        return x\n",
    "train[train['jet_mass'] < 0].shape # 共有652个值 质量为负， 可以填充为0 或者直接删除\n",
    "# test[train['jet_mass'] < 0].shape #\n",
    "train['jet_mass']  = train['jet_mass'].map(lambda x : replace(x))\n",
    "train['jet_energy']  = train['jet_energy'].map(lambda x : replace(x))"
   ]
  },
  {
   "cell_type": "code",
   "execution_count": null,
   "metadata": {},
   "outputs": [],
   "source": [
    "train[train['jet_mass'] < 0].head(100)\n",
    "# train.head(2)"
   ]
  },
  {
   "cell_type": "code",
   "execution_count": null,
   "metadata": {},
   "outputs": [],
   "source": [
    "train.loc[train['jet_mass'] < 0]= 0 "
   ]
  },
  {
   "cell_type": "code",
   "execution_count": null,
   "metadata": {},
   "outputs": [],
   "source": [
    "train[train['label'] <= 0].head()"
   ]
  },
  {
   "cell_type": "code",
   "execution_count": null,
   "metadata": {},
   "outputs": [],
   "source": []
  },
  {
   "cell_type": "code",
   "execution_count": null,
   "metadata": {},
   "outputs": [],
   "source": []
  },
  {
   "cell_type": "code",
   "execution_count": null,
   "metadata": {},
   "outputs": [],
   "source": []
  },
  {
   "cell_type": "code",
   "execution_count": null,
   "metadata": {},
   "outputs": [],
   "source": [
    "train[train['jet_mass'] < 0]['label'].value_counts() # 各个类别都有\n"
   ]
  },
  {
   "cell_type": "code",
   "execution_count": null,
   "metadata": {},
   "outputs": [],
   "source": [
    "sns.stripplot(x = 'label', y='jet_mass', data =train,size =10,jitter =True )"
   ]
  },
  {
   "cell_type": "code",
   "execution_count": null,
   "metadata": {},
   "outputs": [],
   "source": [
    "train['jet_mass_log1p'] =  train['jet_mass'].map(lambda x: np.log1p(x))\n",
    "sns.stripplot(x = 'label', y='jet_mass_log1p', data =train,size =10,jitter =True )"
   ]
  },
  {
   "cell_type": "code",
   "execution_count": null,
   "metadata": {},
   "outputs": [],
   "source": []
  },
  {
   "cell_type": "code",
   "execution_count": null,
   "metadata": {},
   "outputs": [],
   "source": []
  },
  {
   "cell_type": "code",
   "execution_count": null,
   "metadata": {},
   "outputs": [],
   "source": [
    "sns.stripplot(x = 'label', y='jet_energy', data =train,size =10,jitter =True )"
   ]
  },
  {
   "cell_type": "code",
   "execution_count": null,
   "metadata": {},
   "outputs": [],
   "source": [
    "train['jet_energy_log1p'] =  train['jet_energy'].map(lambda x: np.log1p(x))\n",
    "sns.stripplot(x = 'label', y='jet_energy_log1p', data =train,size =10,jitter =True )"
   ]
  },
  {
   "cell_type": "code",
   "execution_count": null,
   "metadata": {},
   "outputs": [],
   "source": [
    "sns.stripplot(x = 'label', y='number_of_particles_in_this_jet', data =train,size =10,jitter =True )"
   ]
  },
  {
   "cell_type": "code",
   "execution_count": null,
   "metadata": {},
   "outputs": [],
   "source": [
    "sns.stripplot(x = 'label', y='jet_px', data =train,size =10, jitter =True ) # 没啥区分度\n"
   ]
  },
  {
   "cell_type": "code",
   "execution_count": null,
   "metadata": {},
   "outputs": [],
   "source": [
    "sns.stripplot(x = 'label', y='jet_py', data =train,size =10, jitter =True )\n"
   ]
  },
  {
   "cell_type": "code",
   "execution_count": null,
   "metadata": {},
   "outputs": [],
   "source": [
    "sns.stripplot(x = 'label', y='jet_pz', data =train,size =10, jitter =True )"
   ]
  },
  {
   "cell_type": "code",
   "execution_count": null,
   "metadata": {},
   "outputs": [],
   "source": [
    "train['y/x'] = train['jet_py'] / train['jet_px']\n",
    "sns.stripplot(x = 'label', y='y/x', data =train,size =10, jitter =True )"
   ]
  },
  {
   "cell_type": "code",
   "execution_count": null,
   "metadata": {},
   "outputs": [],
   "source": [
    "import math\n",
    "train['tranle_yx'] = train['y/x'].map(lambda x : math.atan(x))\n",
    "sns.stripplot(x = 'label', y='tranle_yx', data =train,size =10, jitter =True ) # 角度 没多大用"
   ]
  },
  {
   "cell_type": "code",
   "execution_count": null,
   "metadata": {},
   "outputs": [],
   "source": [
    "train['z/x'] = train['jet_pz'] / train['jet_px']\n",
    "sns.stripplot(x = 'label', y='z/x', data =train,size =10, jitter =True )"
   ]
  },
  {
   "cell_type": "code",
   "execution_count": null,
   "metadata": {},
   "outputs": [],
   "source": [
    "train['y/z'] = train['jet_py'] / train['jet_pz']\n",
    "sns.stripplot(x = 'label', y='y/z', data =train,size =10, jitter =True )"
   ]
  },
  {
   "cell_type": "code",
   "execution_count": null,
   "metadata": {},
   "outputs": [],
   "source": [
    "train['r'] = (train['jet_px'] * train['jet_px']  + train['jet_py'] * train['jet_py'] + train['jet_pz'] * train['jet_pz'])**0.5\n",
    "sns.stripplot(x = 'label', y='r', data =train,size =10, jitter =True )\n",
    "# 没啥区分度"
   ]
  },
  {
   "cell_type": "code",
   "execution_count": null,
   "metadata": {},
   "outputs": [],
   "source": [
    "#jet_id\tnumber_of_particles_in_this_jet\tjet_px\tjet_py\tjet_pz\tjet_energy\tjet_mass\t\n",
    "train['mass/particle'] =train['jet_mass'] / train['number_of_particles_in_this_jet']\n",
    "sns.stripplot(x = 'label', y='mass/particle', data =train,size =10, jitter =True )\n"
   ]
  },
  {
   "cell_type": "code",
   "execution_count": null,
   "metadata": {},
   "outputs": [],
   "source": [
    "train['energy/particle'] =train['jet_energy'] / train['number_of_particles_in_this_jet']\n",
    "sns.stripplot(x = 'label', y='energy/particle', data =train,size =10, jitter =True )"
   ]
  },
  {
   "cell_type": "code",
   "execution_count": null,
   "metadata": {},
   "outputs": [],
   "source": [
    "train['energy/mass'] =train['jet_energy'] / train['jet_mass']\n",
    "\n",
    "sns.stripplot(x = 'label', y='energy/mass', data =train,size =10, jitter =True )"
   ]
  },
  {
   "cell_type": "code",
   "execution_count": null,
   "metadata": {},
   "outputs": [],
   "source": [
    "evnet_jetnum_data = pd.DataFrame({\"event_jet_num\":train.groupby('event_id')['jet_id'].count()})\n",
    "train = train.merge(evnet_jetnum_data, on='event_id', how='left')\n",
    "\n",
    "\n",
    "evnet_jetmass_data = pd.DataFrame(\n",
    "    {\n",
    "    \"event_jetmass_max\":train.groupby('event_id')['jet_mass'].max(), \n",
    "     \"event_jetmass_min\":train.groupby('event_id')['jet_mass'].min(), \n",
    "    'event_jetmass_region': train.groupby('event_id')['jet_mass'].max() - train.groupby('event_id')['jet_mass'].min(), \n",
    "     \"event_jetmass_std\":train.groupby('event_id')['jet_mass'].std(), \n",
    "     \"event_jetmass_mean\":train.groupby('event_id')['jet_mass'].mean()\n",
    "    }\n",
    ")\n",
    "\n",
    "train = train.merge(evnet_jetmass_data, on='event_id', how='left')"
   ]
  },
  {
   "cell_type": "code",
   "execution_count": null,
   "metadata": {},
   "outputs": [],
   "source": [
    "train.head(30)"
   ]
  },
  {
   "cell_type": "code",
   "execution_count": null,
   "metadata": {},
   "outputs": [],
   "source": [
    "plt.rcParams['figure.figsize'] = (8,6)\n",
    "sns.stripplot(x = 'label', y='event_jet_num', data =train,size =10, jitter =True )\n",
    "# 强特征，有用"
   ]
  },
  {
   "cell_type": "code",
   "execution_count": null,
   "metadata": {},
   "outputs": [],
   "source": [
    "plt.rcParams['figure.figsize'] = (8,6)\n",
    "sns.stripplot(x = 'label', y='event_jetmass_region', data =train,size =10, jitter =True )\n"
   ]
  },
  {
   "cell_type": "code",
   "execution_count": null,
   "metadata": {},
   "outputs": [],
   "source": [
    "plt.rcParams['figure.figsize'] = (8,6)\n",
    "sns.stripplot(x = 'label', y='event_jetmass_std', data =train,size =10, jitter =True )"
   ]
  },
  {
   "cell_type": "code",
   "execution_count": null,
   "metadata": {},
   "outputs": [],
   "source": [
    "sns.stripplot(x = 'label', y='event_jetmass_mean', data =train,size =10, jitter =True )"
   ]
  },
  {
   "cell_type": "code",
   "execution_count": null,
   "metadata": {},
   "outputs": [],
   "source": [
    "\n",
    "evnet_jetmass_data = pd.DataFrame(\n",
    "    {\n",
    "    \"event_jet_energy_max\":train.groupby('event_id')['jet_energy'].max(), \n",
    "     \"event_jet_energy_min\":train.groupby('event_id')['jet_energy'].min(), \n",
    "    'event_jet_energy_region': train.groupby('event_id')['jet_energy'].max() - train.groupby('event_id')['jet_energy'].min(), \n",
    "     \"event_jet_energy_std\":train.groupby('event_id')['jet_energy'].std(), \n",
    "     \"event_jet_energy_mean\":train.groupby('event_id')['jet_energy'].mean()\n",
    "    }\n",
    ")\n",
    "\n",
    "train = train.merge(evnet_jetmass_data, on='event_id', how='left')"
   ]
  },
  {
   "cell_type": "code",
   "execution_count": null,
   "metadata": {},
   "outputs": [],
   "source": [
    "plt.rcParams['figure.figsize'] = (8,6)\n",
    "sns.stripplot(x = 'label', y='event_jet_energy_max', data =train,size =10, jitter =True )"
   ]
  },
  {
   "cell_type": "code",
   "execution_count": null,
   "metadata": {},
   "outputs": [],
   "source": [
    "plt.rcParams['figure.figsize'] = (8,6)\n",
    "sns.stripplot(x = 'label', y='event_jet_energy_min', data =train,size =10, jitter =True )"
   ]
  },
  {
   "cell_type": "code",
   "execution_count": null,
   "metadata": {},
   "outputs": [],
   "source": [
    "plt.rcParams['figure.figsize'] = (8,6)\n",
    "sns.stripplot(x = 'label', y='event_jet_energy_region', data =train,size =10, jitter =True )"
   ]
  },
  {
   "cell_type": "code",
   "execution_count": null,
   "metadata": {},
   "outputs": [],
   "source": [
    "plt.rcParams['figure.figsize'] = (8,6)\n",
    "sns.stripplot(x = 'label', y='event_jet_energy_std', data =train,size =10, jitter =True )"
   ]
  },
  {
   "cell_type": "code",
   "execution_count": null,
   "metadata": {},
   "outputs": [],
   "source": [
    "plt.rcParams['figure.figsize'] = (8,6)\n",
    "sns.stripplot(x = 'label', y='event_jet_energy_mean', data =train,size =10, jitter =True )"
   ]
  },
  {
   "cell_type": "code",
   "execution_count": null,
   "metadata": {},
   "outputs": [],
   "source": [
    "# 根据坐标求方位\n",
    "\n",
    "def get_direction(px, py, pz):\n",
    "#     print(px, py, pz)\n",
    "    if px > 0:\n",
    "        if py > 0:\n",
    "            if pz > 0:\n",
    "                return 1\n",
    "            else:\n",
    "                return 2\n",
    "        else:\n",
    "            if pz > 0:\n",
    "                return 3\n",
    "            else:\n",
    "                return 4\n",
    "    else:\n",
    "        if py > 0:\n",
    "            if pz > 0:\n",
    "                return 5\n",
    "            else:\n",
    "                return 6\n",
    "        else:\n",
    "            if pz > 0:\n",
    "                return 7\n",
    "            else:\n",
    "                return 8\n",
    "train['jet_direction'] = train.apply(lambda x : get_direction(x.jet_px, x.jet_py, x.jet_pz), axis=1)"
   ]
  },
  {
   "cell_type": "code",
   "execution_count": null,
   "metadata": {},
   "outputs": [],
   "source": [
    "plt.rcParams['figure.figsize'] = (8,6)\n",
    "sns.stripplot(x = 'label', y='jet_direction', data =train,size =10, jitter =True )"
   ]
  },
  {
   "cell_type": "code",
   "execution_count": null,
   "metadata": {},
   "outputs": [],
   "source": [
    "train.head()"
   ]
  },
  {
   "cell_type": "code",
   "execution_count": null,
   "metadata": {},
   "outputs": [],
   "source": [
    "# 求事件的体积\n",
    "evnet_tiji_data = pd.DataFrame(\n",
    "    {\n",
    "    \"event_px_max\":train.groupby('event_id')['jet_px'].max(), \n",
    "    \"event_px_min\":train.groupby('event_id')['jet_px'].min(), \n",
    "    \"event_py_max\": train.groupby('event_id')['jet_py'].max() , \n",
    "    \"event_py_min\": train.groupby('event_id')['jet_py'].min() , \n",
    "    \"event_pz_max\": train.groupby('event_id')['jet_pz'].max() , \n",
    "    \"event_pz_min\": train.groupby('event_id')['jet_pz'].min() , \n",
    "    }\n",
    ")\n",
    "\n",
    "train = train.merge(evnet_tiji_data, on='event_id', how='left')"
   ]
  },
  {
   "cell_type": "code",
   "execution_count": null,
   "metadata": {},
   "outputs": [],
   "source": [
    "train.head()"
   ]
  },
  {
   "cell_type": "code",
   "execution_count": null,
   "metadata": {},
   "outputs": [],
   "source": [
    "def get_tiji(x, y, z) :\n",
    "    return x* y * z\n",
    "train['event_tiji'] = train.apply(lambda x : get_tiji(x.event_px_max - x.event_px_min, x.event_py_max - x.event_py_min, x.event_pz_max - x.event_pz_min), axis=1)"
   ]
  },
  {
   "cell_type": "code",
   "execution_count": null,
   "metadata": {},
   "outputs": [],
   "source": [
    "plt.rcParams['figure.figsize'] = (8,6)\n",
    "sns.stripplot(x = 'label', y='event_tiji', data =train, size =10, jitter =True )"
   ]
  },
  {
   "cell_type": "code",
   "execution_count": null,
   "metadata": {},
   "outputs": [],
   "source": [
    "# 散点图\n",
    "plt.rcParams['figure.figsize'] = (8,6)\n",
    "train.plot.scatter(x='jet_mass', y='jet_energy', alpha=0.3, ylim=(0,300));"
   ]
  },
  {
   "cell_type": "code",
   "execution_count": null,
   "metadata": {},
   "outputs": [],
   "source": [
    "plt.rcParams['figure.figsize'] = (8,6)\n",
    "train.plot.scatter(x='number_of_particles_in_this_jet', y='jet_energy', alpha=0.3, ylim=(0,300));"
   ]
  },
  {
   "cell_type": "code",
   "execution_count": null,
   "metadata": {},
   "outputs": [],
   "source": [
    "plt.rcParams['figure.figsize'] = (8,6)\n",
    "train.plot.scatter(x='number_of_particles_in_this_jet', y='jet_mass', alpha=0.3, ylim=(0,100));"
   ]
  },
  {
   "cell_type": "code",
   "execution_count": null,
   "metadata": {},
   "outputs": [],
   "source": [
    "plt.rcParams['figure.figsize'] = (10,10)\n",
    "sns.heatmap(train.corr(), vmin=-1, vmax=1, center=0, \n",
    "            square=True, cmap='RdBu') #cmap = sns.diverging_palette(20, 220, n=200))\n",
    "plt.show()"
   ]
  },
  {
   "cell_type": "code",
   "execution_count": null,
   "metadata": {},
   "outputs": [],
   "source": [
    "# 箱线图\n",
    "f, ax = plt.subplots(figsize=(6, 4))\n",
    "fig = sns.boxplot(x=train['label'], y=\"jet_energy\", data=train)\n",
    "fig.axis(ymin=0, ymax=200);"
   ]
  },
  {
   "cell_type": "code",
   "execution_count": null,
   "metadata": {},
   "outputs": [],
   "source": [
    "# 箱线图\n",
    "f, ax = plt.subplots(figsize=(6, 4))\n",
    "fig = sns.boxplot(x=train['label'], y=\"jet_mass\", data=train)\n",
    "fig.axis(ymin=0, ymax=200);"
   ]
  },
  {
   "cell_type": "code",
   "execution_count": null,
   "metadata": {},
   "outputs": [],
   "source": [
    "\n",
    "del train, test\n",
    "gc.collect()"
   ]
  },
  {
   "cell_type": "code",
   "execution_count": null,
   "metadata": {},
   "outputs": [],
   "source": []
  },
  {
   "cell_type": "markdown",
   "metadata": {},
   "source": [
    "# 特征工程"
   ]
  },
  {
   "cell_type": "markdown",
   "metadata": {},
   "source": [
    "## 加载数据 & 减少内存占用\n",
    "\n"
   ]
  },
  {
   "cell_type": "code",
   "execution_count": null,
   "metadata": {},
   "outputs": [],
   "source": [
    "train = pd.read_csv('./jet_simple_data/simple_train_R04_jet.csv')\n",
    "test= pd.read_csv('./jet_simple_data/simple_test_R04_jet.csv')\n",
    "\n",
    "\n",
    "# def reduce_mem_usage(df):\n",
    "#     '''迭代所有列，减少内存使用'''\n",
    "#     start_mem = df.memory_usage().sum() / (1024**2)\n",
    "#     print('Memory usage of dataframe is {:.2f} MB'.format(start_mem))\n",
    "    \n",
    "#     for col in df.columns:\n",
    "#         col_type = df[col].dtype\n",
    "        \n",
    "#         if col_type != object:\n",
    "#             c_min = df[col].min()\n",
    "#             c_max = df[col].max()\n",
    "#             if str(col_type)[:3] == 'int':\n",
    "#                 if c_min > np.iinfo(np.int8).min and c_max < np.iinfo(np.int8).max:\n",
    "#                     df[col] = df[col].astype(np.int8)\n",
    "#                 elif c_min > np.iinfo(np.int16).min and c_max < np.iinfo(np.int16).max:\n",
    "#                     df[col] = df[col].astype(np.int16)\n",
    "#                 elif c_min > np.iinfo(np.int32).min and c_max < np.iinfo(np.int32).max:\n",
    "#                     df[col] = df[col].astype(np.int32)\n",
    "#                 elif c_min > np.iinfo(np.int64).min and c_max < np.iinfo(np.int64).max:\n",
    "#                     df[col] = df[col].astype(np.int64)  \n",
    "#             else:\n",
    "#                 if c_min > np.finfo(np.float16).min and c_max < np.finfo(np.float16).max:\n",
    "#                     df[col] = df[col].astype(np.float16)\n",
    "#                 elif c_min > np.finfo(np.float32).min and c_max < np.finfo(np.float32).max:\n",
    "#                     df[col] = df[col].astype(np.float32)\n",
    "#                 else:\n",
    "#                     df[col] = df[col].astype(np.float64)\n",
    "#         else:\n",
    "#             df[col] = df[col].astype('category')\n",
    "\n",
    "#     end_mem = df.memory_usage().sum() / 1024**2\n",
    "#     print('Memory usage after optimization is: {:.2f} MB'.format(end_mem))\n",
    "#     print('Decreased by {:.1f}%'.format(100 * (start_mem - end_mem) / start_mem))\n",
    "    \n",
    "#     return df\n",
    "\n",
    "\n",
    "# reduce_mem_usage(train)\n",
    "# reduce_mem_usage(test)"
   ]
  },
  {
   "cell_type": "code",
   "execution_count": null,
   "metadata": {},
   "outputs": [],
   "source": [
    "data = train.append(test)\n",
    "data.shape"
   ]
  },
  {
   "cell_type": "code",
   "execution_count": null,
   "metadata": {},
   "outputs": [],
   "source": [
    "def replace(x) :\n",
    "    if x < 0.0:\n",
    "        return 0\n",
    "    else:\n",
    "        return x\n",
    "print(data[data['jet_mass'] < 0].shape, data[data['jet_energy'] < 0].shape)\n",
    "\n",
    "data['jet_mass']  = data['jet_mass'].map(lambda x : replace(x))\n",
    "data['jet_energy']  = data['jet_energy'].map(lambda x : replace(x))\n",
    "print(data[data['jet_mass'] < 0].shape, data[data['jet_energy'] < 0].shape)"
   ]
  },
  {
   "cell_type": "code",
   "execution_count": null,
   "metadata": {},
   "outputs": [],
   "source": [
    "data.head()"
   ]
  },
  {
   "cell_type": "code",
   "execution_count": null,
   "metadata": {},
   "outputs": [],
   "source": [
    "# 根据坐标求方位\n",
    "\n",
    "def get_direction(px, py, pz):\n",
    "#     print(px, py, pz)\n",
    "    if px > 0:\n",
    "        if py > 0:\n",
    "            if pz > 0:\n",
    "                return 1\n",
    "            else:\n",
    "                return 2\n",
    "        else:\n",
    "            if pz > 0:\n",
    "                return 3\n",
    "            else:\n",
    "                return 4\n",
    "    else:\n",
    "        if py > 0:\n",
    "            if pz > 0:\n",
    "                return 5\n",
    "            else:\n",
    "                return 6\n",
    "        else:\n",
    "            if pz > 0:\n",
    "                return 7\n",
    "            else:\n",
    "                return 8\n",
    "\n",
    "def get_feature(data_):\n",
    "    \n",
    "    # 能方向特征\n",
    "    data = data_.copy()\n",
    "    data['y/x'] = data['jet_py']/ data['jet_px']\n",
    "    data['z/x'] = data['jet_pz']/ data['jet_px']\n",
    "    data['y/z'] = data['jet_py']/ data['jet_pz']\n",
    "    data['r'] = (data['jet_px'] * data['jet_px']  + data['jet_py'] * data['jet_py'] + data['jet_pz'] * data['jet_pz'])**0.5\n",
    "    # 方位\n",
    "    data['jet_direction'] = data.apply(lambda x : get_direction(x.jet_px, x.jet_py, x.jet_pz), axis=1)\n",
    "    \n",
    "    # 单粒子mass、energy，energy/mass\n",
    "    data['mass/particle'] =data['jet_mass'] / data['number_of_particles_in_this_jet']\n",
    "    data['energy/particle'] =data['jet_energy'] / data['number_of_particles_in_this_jet']\n",
    "    data['energy/mass'] =data['jet_energy'] / data['jet_mass']\n",
    "    \n",
    "    # event 统计特征\n",
    "    evnet_jetnum_data = pd.DataFrame({\"event_jet_num\": data.groupby('event_id')['jet_id'].count()})\n",
    "    data = data.merge(evnet_jetnum_data, on='event_id', how='left')\n",
    "    # event-mass\n",
    "    evnet_jetmass_data = pd.DataFrame({\n",
    "        \"event_jetmass_max\":data.groupby('event_id')['jet_mass'].max(), \n",
    "        \"event_jetmass_min\":data.groupby('event_id')['jet_mass'].min(), \n",
    "        \"event_jetmass_region\": data.groupby('event_id')['jet_mass'].max() - data.groupby('event_id')['jet_mass'].min(), \n",
    "        \"event_jetmass_std\":data.groupby('event_id')['jet_mass'].std(), \n",
    "        \"event_jetmass_mean\":data.groupby('event_id')['jet_mass'].mean()\n",
    "        }\n",
    "    )\n",
    "    \n",
    "    data = data.merge(evnet_jetmass_data, on='event_id', how='left')\n",
    "    \n",
    "    # event-energy\n",
    "    evnet_jetenergy_data = pd.DataFrame(\n",
    "        {\n",
    "        \"event_jet_energy_max\": data.groupby('event_id')['jet_energy'].max(), \n",
    "        \"event_jet_energy_min\": data.groupby('event_id')['jet_energy'].min(), \n",
    "        \"event_jet_energy_region\": data.groupby('event_id')['jet_energy'].max() - data.groupby('event_id')['jet_energy'].min(), \n",
    "        \"event_jet_energy_std\": data.groupby('event_id')['jet_energy'].std(), \n",
    "        \"event_jet_energy_mean\": data.groupby('event_id')['jet_energy'].mean()\n",
    "        }\n",
    "    )\n",
    "\n",
    "    data = data.merge(evnet_jetenergy_data, on='event_id', how='left')\n",
    "    \n",
    "\n",
    "    # 求事件的体积\n",
    "    evnet_tiji_data = pd.DataFrame(\n",
    "        {\n",
    "        \"event_px_max\":data.groupby('event_id')['jet_px'].max(), \n",
    "        \"event_px_min\":data.groupby('event_id')['jet_px'].min(), \n",
    "        \"event_px_region\":data.groupby('event_id')['jet_px'].max() - data.groupby('event_id')['jet_px'].min(), \n",
    "            \n",
    "        \"event_py_max\": data.groupby('event_id')['jet_py'].max() , \n",
    "        \"event_py_min\": data.groupby('event_id')['jet_py'].min() , \n",
    "        \"event_py_region\":data.groupby('event_id')['jet_py'].max() - data.groupby('event_id')['jet_py'].min(), \n",
    "            \n",
    "        \"event_pz_max\": data.groupby('event_id')['jet_pz'].max() , \n",
    "        \"event_pz_min\": data.groupby('event_id')['jet_pz'].min() , \n",
    "        \"event_pz_region\":data.groupby('event_id')['jet_pz'].max() - data.groupby('event_id')['jet_pz'].min(), \n",
    "        }\n",
    "    )\n",
    "\n",
    "    data = data.merge(evnet_tiji_data, on='event_id', how='left')\n",
    "    def get_tiji(x, y, z) :\n",
    "        return x* y * z\n",
    "    data['event_tiji'] = data.apply(lambda x : get_tiji(x.event_px_region, x.event_py_region, x.event_pz_region), axis=1)\n",
    "    \n",
    "    return data\n",
    "    \n",
    "    "
   ]
  },
  {
   "cell_type": "code",
   "execution_count": null,
   "metadata": {},
   "outputs": [],
   "source": [
    "data_new = get_feature(data)"
   ]
  },
  {
   "cell_type": "code",
   "execution_count": null,
   "metadata": {},
   "outputs": [],
   "source": [
    "print(data_new.shape)\n",
    "data_new.head()"
   ]
  },
  {
   "cell_type": "code",
   "execution_count": null,
   "metadata": {},
   "outputs": [],
   "source": [
    "data_new.columns"
   ]
  },
  {
   "cell_type": "code",
   "execution_count": null,
   "metadata": {},
   "outputs": [],
   "source": [
    "plt.rcParams['figure.figsize'] = (10,10)\n",
    "sns.heatmap(data_new.corr(), vmin=-1, vmax=1, center=0, \n",
    "            square=True, cmap='RdBu') #cmap = sns.diverging_palette(20, 220, n=200))\n",
    "plt.show()"
   ]
  },
  {
   "cell_type": "markdown",
   "metadata": {},
   "source": [
    "# 模型训练"
   ]
  },
  {
   "cell_type": "code",
   "execution_count": null,
   "metadata": {},
   "outputs": [],
   "source": [
    "tr_index = ~data_new['label'].isnull()\n",
    "train = data_new[tr_index].reset_index(drop=True)\n",
    "y = data_new[tr_index]['label'].reset_index(drop=True).astype(int)\n",
    "test = data_new[~tr_index].reset_index(drop=True)\n",
    "print(train.shape,test.shape)"
   ]
  },
  {
   "cell_type": "code",
   "execution_count": null,
   "metadata": {},
   "outputs": [],
   "source": [
    "from sklearn.preprocessing import LabelEncoder\n",
    "object_col = ['label']\n",
    "for i in tqdm(object_col):\n",
    "    lbl = LabelEncoder()\n",
    "    train[i] = lbl.fit_transform(train[i].astype(str))"
   ]
  },
  {
   "cell_type": "code",
   "execution_count": null,
   "metadata": {},
   "outputs": [],
   "source": [
    "train.head()"
   ]
  },
  {
   "cell_type": "code",
   "execution_count": null,
   "metadata": {},
   "outputs": [],
   "source": [
    "y.head()"
   ]
  },
  {
   "cell_type": "code",
   "execution_count": null,
   "metadata": {
    "scrolled": true
   },
   "outputs": [],
   "source": [
    "train_features = [ 'jet_energy', 'jet_mass', 'jet_px', 'jet_py', 'jet_pz', 'number_of_particles_in_this_jet', \n",
    "        'y/x', 'z/x', 'y/z', 'r', 'jet_direction', 'mass/particle', 'energy/particle','energy/mass', 'event_jet_num', \n",
    "        'event_jetmass_max','event_jetmass_min', 'event_jetmass_region', 'event_jetmass_std', 'event_jetmass_mean',\n",
    "        'event_jet_energy_max', 'event_jet_energy_min', 'event_jet_energy_region', 'event_jet_energy_std',\n",
    "        'event_jet_energy_mean', 'event_px_max', 'event_px_min',  'event_px_region', 'event_py_max', \n",
    "        'event_py_min', 'event_py_region', 'event_pz_max', 'event_pz_min', 'event_pz_region', 'event_tiji']\n",
    "\n",
    "# train_features = ['event_jetmass_mean', 'event_jet_energy_mean', 'event_jet_num', \n",
    "#                   'number_of_particles_in_this_jet', 'event_jet_energy_region', \n",
    "#                   'event_jet_energy_std', 'jet_energy', 'event_px_region', 'event_jetmass_max', \n",
    "#                   'event_jetmass_min', 'event_px_min', 'jet_mass', 'event_px_max', 'event_pz_region', \n",
    "#                   'event_jet_energy_max', 'event_py_min', 'event_py_region', 'event_py_max', \n",
    "#                   'event_jetmass_std', 'event_jet_energy_min', 'event_pz_max', 'event_pz_min', \n",
    "#                   'event_tiji', 'event_jetmass_region']\n",
    "\n",
    "# train_features = ['number_of_particles_in_this_jet','jet_px', \n",
    "#                   'jet_py', 'jet_pz', 'jet_energy', 'jet_mass',\n",
    "#                   'particle_energy','particle_mass', 'mass_energy', \n",
    "#                   'event_id_num', ] # bestTest = 0.7071216899\n",
    "\n",
    "from sklearn.metrics import mean_squared_error, accuracy_score, precision_score, classification_report, roc_auc_score\n",
    "from sklearn.preprocessing import label_binarize\n",
    "import lightgbm as lgb\n",
    "from catboost import CatBoostClassifier\n",
    "from sklearn.model_selection import KFold, StratifiedKFold\n",
    "from tqdm import tqdm\n",
    "    \n",
    "folds = 2\n",
    "seed = 2019\n",
    "kf = StratifiedKFold(n_splits=folds, shuffle=True, random_state=seed)\n",
    "\n",
    "models = []\n",
    "cv_score = []\n",
    "test_pred = np.zeros((test.shape[0],4))\n",
    "\n",
    "# for index, (train_index, test_index) in tqdm(enumerate(kf.split(train, train['label']))):\n",
    "#     print(index)\n",
    "    \n",
    "#     train_x, test_x, train_y, test_y = train.iloc[train_index],train.iloc[test_index], train['label'].iloc[train_index], train['label'].iloc[test_index]\n",
    "train_x, test_x, train_y, test_y = train_test_split(train, train['label'], test_size=0.33, random_state=42)\n",
    "model = CatBoostClassifier(\n",
    "    iterations=2000 ,\n",
    "    loss_function='MultiClass',\n",
    "#     custom_metric=['Accuracy','AUC'],\n",
    "    eval_metric = 'Accuracy',\n",
    "    verbose=100,\n",
    "    learning_rate=0.1, \n",
    "    max_depth=5, \n",
    "    early_stopping_rounds=50, \n",
    ")\n",
    "model.fit(train_x[train_features], train_y, eval_set=(test_x[train_features], test_y))\n",
    "\n",
    "y_pred = model.predict(test_x[train_features])\n",
    "\n",
    "print('分类报告：\\n',classification_report(test_y , y_pred))\n",
    "      # 交叉验证单模型中，预测测试数据\n",
    "test_pre = model.predict(test[train_features])\n",
    "# print(test_pre)\n",
    "\n",
    "cat_map  = {1:21, 0:1, 2:4, 3: 5}\n",
    "out = [cat_map[x[0]] for x in test_pre]\n",
    "submission = pd.read_csv('./jet_simple_data/sample_submmission.csv')\n",
    "submission['label'] = out\n",
    "submission.to_csv('./result/baseline-1217-01.csv', index=False)\n"
   ]
  },
  {
   "cell_type": "code",
   "execution_count": null,
   "metadata": {},
   "outputs": [],
   "source": [
    "bold(\"**catboost特征重要性**\")\n",
    "print(model.feature_importances_)\n",
    "plt.bar(range(len(model.feature_importances_)), model.feature_importances_)\n",
    "feature_important = dict(zip(train_features, model.feature_importances_))\n",
    "feature_important=sorted(feature_important.items(), key=lambda x: x[1], reverse=True)\n",
    "print(feature_important)\n",
    "\n",
    "\n",
    "feature_import_usefull = [key for (key, value) in feature_important if value > 1.5]\n",
    "\n",
    "print(\"\\n\\n catboost 重要性 > 1.5 特征类别：\", len(feature_import_usefull),  feature_import_usefull)\n",
    "\n"
   ]
  },
  {
   "cell_type": "code",
   "execution_count": null,
   "metadata": {},
   "outputs": [],
   "source": []
  },
  {
   "cell_type": "code",
   "execution_count": null,
   "metadata": {},
   "outputs": [],
   "source": []
  }
 ],
 "metadata": {
  "kernelspec": {
   "display_name": "Python 3",
   "language": "python",
   "name": "python3"
  },
  "toc": {
   "base_numbering": 1,
   "nav_menu": {},
   "number_sections": true,
   "sideBar": true,
   "skip_h1_title": false,
   "title_cell": "Table of Contents",
   "title_sidebar": "Contents",
   "toc_cell": false,
   "toc_position": {},
   "toc_section_display": true,
   "toc_window_display": true
  }
 },
 "nbformat": 4,
 "nbformat_minor": 2
}
