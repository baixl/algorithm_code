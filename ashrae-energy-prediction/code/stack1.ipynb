{
 "cells": [
  {
   "cell_type": "markdown",
   "metadata": {},
   "source": [
    "\n",
    "https://www.kaggle.com/wuliaokaola/ashrae-maybe-this-can-make-public-lb-some-useful\n",
    "\n",
    "```\n",
    "这个kernal 使用4份结果做了一个融合，分别是\n",
    "1、half and half https://www.kaggle.com/rohanrao/ashrae-half-and-half  submission_base\n",
    "2、site0 https://www.kaggle.com/yamsam/new-ucf-starter-kernel\n",
    "3、site1 https://www.kaggle.com/mpware/ucl-data-leakage-episode-2\n",
    "4、site2 https://www.kaggle.com/pdnartreb/asu-buildings-energy-consumption\n",
    "5、site4 https://www.kaggle.com/serengil/ucb-data-leakage-site-4\n",
    "```"
   ]
  },
  {
   "cell_type": "code",
   "execution_count": null,
   "metadata": {},
   "outputs": [],
   "source": []
  }
 ],
 "metadata": {
  "kernelspec": {
   "display_name": "Python 3",
   "language": "python",
   "name": "python3"
  },
  "language_info": {
   "codemirror_mode": {
    "name": "ipython",
    "version": 3
   },
   "file_extension": ".py",
   "mimetype": "text/x-python",
   "name": "python",
   "nbconvert_exporter": "python",
   "pygments_lexer": "ipython3",
   "version": "3.7.3"
  }
 },
 "nbformat": 4,
 "nbformat_minor": 2
}
