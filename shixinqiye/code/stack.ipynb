{
 "cells": [
  {
   "cell_type": "code",
   "execution_count": 1,
   "metadata": {},
   "outputs": [],
   "source": [
    "import pandas as pd\n",
    "import numpy as np\n"
   ]
  },
  {
   "cell_type": "code",
   "execution_count": 3,
   "metadata": {},
   "outputs": [
    {
     "data": {
      "text/html": [
       "<div>\n",
       "<style scoped>\n",
       "    .dataframe tbody tr th:only-of-type {\n",
       "        vertical-align: middle;\n",
       "    }\n",
       "\n",
       "    .dataframe tbody tr th {\n",
       "        vertical-align: top;\n",
       "    }\n",
       "\n",
       "    .dataframe thead th {\n",
       "        text-align: right;\n",
       "    }\n",
       "</style>\n",
       "<table border=\"1\" class=\"dataframe\">\n",
       "  <thead>\n",
       "    <tr style=\"text-align: right;\">\n",
       "      <th></th>\n",
       "      <th>ID</th>\n",
       "      <th>Label</th>\n",
       "    </tr>\n",
       "  </thead>\n",
       "  <tbody>\n",
       "    <tr>\n",
       "      <th>0</th>\n",
       "      <td>0</td>\n",
       "      <td>0.000001</td>\n",
       "    </tr>\n",
       "    <tr>\n",
       "      <th>1</th>\n",
       "      <td>2</td>\n",
       "      <td>0.000001</td>\n",
       "    </tr>\n",
       "  </tbody>\n",
       "</table>\n",
       "</div>"
      ],
      "text/plain": [
       "   ID     Label\n",
       "0   0  0.000001\n",
       "1   2  0.000001"
      ]
     },
     "execution_count": 3,
     "metadata": {},
     "output_type": "execute_result"
    }
   ],
   "source": [
    "submission_light = pd.read_csv('./submission_light_gbm.csv')\n",
    "submission_light.head(2)"
   ]
  },
  {
   "cell_type": "code",
   "execution_count": 5,
   "metadata": {},
   "outputs": [],
   "source": [
    "submission_cat = pd.read_csv('./submission_catboost.csv')\n",
    "submission_xgb = pd.read_csv('./submission_xgboost.csv')"
   ]
  },
  {
   "cell_type": "code",
   "execution_count": 6,
   "metadata": {},
   "outputs": [],
   "source": [
    "submission_light['Label'] +=submission_cat['Label']"
   ]
  },
  {
   "cell_type": "code",
   "execution_count": 8,
   "metadata": {},
   "outputs": [],
   "source": [
    "submission_light['Label'] +=submission_xgb['Label']\n",
    "submission_light['Label'] /=3\n",
    "submission_light.to_csv('./submission_stack.csv', index=False)"
   ]
  },
  {
   "cell_type": "code",
   "execution_count": null,
   "metadata": {},
   "outputs": [],
   "source": [
    "\n"
   ]
  },
  {
   "cell_type": "code",
   "execution_count": null,
   "metadata": {},
   "outputs": [],
   "source": []
  },
  {
   "cell_type": "code",
   "execution_count": null,
   "metadata": {},
   "outputs": [],
   "source": []
  },
  {
   "cell_type": "code",
   "execution_count": 3,
   "metadata": {},
   "outputs": [],
   "source": [
    "## 交叉验证结果融合\n",
    "import pandas as pd\n",
    "import numpy as np\n",
    "import pandas as pd\n",
    "import numpy as np\n",
    "\n",
    "submission_light_cv = pd.read_csv('../result//submission_lightgbm_feature_all_cv5.csv')\n",
    "submission_xgb_cv = pd.read_csv('../result/submission_xgb_feature_all_cv5.csv')\n",
    "submission_cat_cv = pd.read_csv('../result//submission_catboost_feature_all_cv5.csv')\n",
    "\n",
    "\n",
    "submission_light_cv['Label'] += submission_xgb_cv['Label']\n",
    "submission_light_cv['Label'] += submission_cat_cv['Label']\n",
    "submission_light_cv['Label'] /=3\n",
    "submission_light_cv.to_csv('../result//submission_stack_cv.csv', index=False)"
   ]
  },
  {
   "cell_type": "code",
   "execution_count": null,
   "metadata": {},
   "outputs": [],
   "source": [
    "\n"
   ]
  },
  {
   "cell_type": "code",
   "execution_count": null,
   "metadata": {},
   "outputs": [],
   "source": []
  },
  {
   "cell_type": "code",
   "execution_count": 3,
   "metadata": {},
   "outputs": [],
   "source": [
    "## 交叉验证结果融合\n",
    "import pandas as pd\n",
    "import numpy as np\n",
    "import pandas as pd\n",
    "import numpy as np\n",
    "\n",
    "submission_light_cv = pd.read_csv('../result/submission_lightgbm_feature4.csv')\n",
    "submission_xgb_cv = pd.read_csv('../result/submission_xgb_feature4.csv')\n",
    "submission_cat_cv = pd.read_csv('../result/submission_catboost_feature4.csv')\n",
    "\n",
    "\n",
    "submission_light_cv['Label'] += submission_xgb_cv['Label']\n",
    "submission_light_cv['Label'] += submission_cat_cv['Label']\n",
    "submission_light_cv['Label'] /=3\n",
    "submission_light_cv.to_csv('../result//submission_stack_feature4.csv', index=False)"
   ]
  },
  {
   "cell_type": "code",
   "execution_count": null,
   "metadata": {},
   "outputs": [],
   "source": []
  },
  {
   "cell_type": "code",
   "execution_count": 5,
   "metadata": {},
   "outputs": [],
   "source": [
    "## 交叉验证结果融合\n",
    "import pandas as pd\n",
    "import numpy as np\n",
    "import pandas as pd\n",
    "import numpy as np\n",
    "\n",
    "submission_light_cv = pd.read_csv('../result/catb_dan_1207.csv')\n",
    "submission_xgb_cv = pd.read_csv('../result/lgb_dan_1207.csv')\n",
    "submission_cat_cv = pd.read_csv('../result/xgb_dan_1207.csv')\n",
    "\n",
    "\n",
    "submission_light_cv['Label'] += submission_xgb_cv['Label']\n",
    "submission_light_cv['Label'] += submission_cat_cv['Label']\n",
    "submission_light_cv['Label'] /=3\n",
    "submission_light_cv.to_csv('../result/stack_1207.csv', index=False)\n",
    "\n",
    "# 0.92564"
   ]
  },
  {
   "cell_type": "code",
   "execution_count": null,
   "metadata": {},
   "outputs": [],
   "source": []
  },
  {
   "cell_type": "code",
   "execution_count": 6,
   "metadata": {},
   "outputs": [],
   "source": [
    "## 交叉验证结果融合\n",
    "import pandas as pd\n",
    "import numpy as np\n",
    "import pandas as pd\n",
    "import numpy as np\n",
    "\n",
    "submission_light_cv = pd.read_csv('../result/catb_dan_1207-01.csv')\n",
    "submission_xgb_cv = pd.read_csv('../result/lgb_dan_1207-01.csv')\n",
    "submission_cat_cv = pd.read_csv('../result/xgb_dan_1207-01.csv')\n",
    "\n",
    "\n",
    "submission_light_cv['Label'] += submission_xgb_cv['Label']\n",
    "submission_light_cv['Label'] += submission_cat_cv['Label']\n",
    "submission_light_cv['Label'] /=3\n",
    "submission_light_cv.to_csv('../result/stack_1207-01.csv', index=False)\n"
   ]
  },
  {
   "cell_type": "code",
   "execution_count": null,
   "metadata": {},
   "outputs": [],
   "source": []
  }
 ],
 "metadata": {
  "file_extension": ".py",
  "kernelspec": {
   "display_name": "Python 3",
   "language": "python",
   "name": "python3"
  },
  "language_info": {
   "codemirror_mode": {
    "name": "ipython",
    "version": 3
   },
   "file_extension": ".py",
   "mimetype": "text/x-python",
   "name": "python",
   "nbconvert_exporter": "python",
   "pygments_lexer": "ipython3",
   "version": "3.7.3"
  },
  "mimetype": "text/x-python",
  "name": "python",
  "npconvert_exporter": "python",
  "pygments_lexer": "ipython3",
  "version": 3
 },
 "nbformat": 4,
 "nbformat_minor": 2
}
