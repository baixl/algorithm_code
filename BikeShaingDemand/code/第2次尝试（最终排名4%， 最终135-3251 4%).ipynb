{
 "cells": [
  {
   "cell_type": "markdown",
   "metadata": {},
   "source": [
    "# 参考kernal\n",
    "\n",
    "https://www.kaggle.com/miteshyadav/comprehensive-eda-with-xgboost-top-10-percentile/notebook\n",
    "\n",
    "https://www.kaggle.com/viveksrinivasan/eda-ensemble-model-top-10-percentile"
   ]
  },
  {
   "cell_type": "markdown",
   "metadata": {},
   "source": [
    "# 1 数据检视"
   ]
  },
  {
   "cell_type": "code",
   "execution_count": 1,
   "metadata": {},
   "outputs": [],
   "source": [
    "import pylab\n",
    "import calendar\n",
    "import numpy as np\n",
    "import pandas as pd\n",
    "import seaborn as sns\n",
    "from scipy import stats\n",
    "# import missingno as msno\n",
    "from datetime import datetime\n",
    "import matplotlib.pyplot as plt\n",
    "import warnings\n",
    "pd.options.mode.chained_assignment = None\n",
    "warnings.filterwarnings(\"ignore\", category=DeprecationWarning)\n",
    "%matplotlib inline"
   ]
  },
  {
   "cell_type": "code",
   "execution_count": 2,
   "metadata": {},
   "outputs": [
    {
     "data": {
      "text/html": [
       "<div>\n",
       "<style scoped>\n",
       "    .dataframe tbody tr th:only-of-type {\n",
       "        vertical-align: middle;\n",
       "    }\n",
       "\n",
       "    .dataframe tbody tr th {\n",
       "        vertical-align: top;\n",
       "    }\n",
       "\n",
       "    .dataframe thead th {\n",
       "        text-align: right;\n",
       "    }\n",
       "</style>\n",
       "<table border=\"1\" class=\"dataframe\">\n",
       "  <thead>\n",
       "    <tr style=\"text-align: right;\">\n",
       "      <th></th>\n",
       "      <th>datetime</th>\n",
       "      <th>season</th>\n",
       "      <th>holiday</th>\n",
       "      <th>workingday</th>\n",
       "      <th>weather</th>\n",
       "      <th>temp</th>\n",
       "      <th>atemp</th>\n",
       "      <th>humidity</th>\n",
       "      <th>windspeed</th>\n",
       "      <th>casual</th>\n",
       "      <th>registered</th>\n",
       "      <th>count</th>\n",
       "    </tr>\n",
       "  </thead>\n",
       "  <tbody>\n",
       "    <tr>\n",
       "      <th>0</th>\n",
       "      <td>2011-01-01 00:00:00</td>\n",
       "      <td>1</td>\n",
       "      <td>0</td>\n",
       "      <td>0</td>\n",
       "      <td>1</td>\n",
       "      <td>9.84</td>\n",
       "      <td>14.395</td>\n",
       "      <td>81</td>\n",
       "      <td>0.0</td>\n",
       "      <td>3</td>\n",
       "      <td>13</td>\n",
       "      <td>16</td>\n",
       "    </tr>\n",
       "    <tr>\n",
       "      <th>1</th>\n",
       "      <td>2011-01-01 01:00:00</td>\n",
       "      <td>1</td>\n",
       "      <td>0</td>\n",
       "      <td>0</td>\n",
       "      <td>1</td>\n",
       "      <td>9.02</td>\n",
       "      <td>13.635</td>\n",
       "      <td>80</td>\n",
       "      <td>0.0</td>\n",
       "      <td>8</td>\n",
       "      <td>32</td>\n",
       "      <td>40</td>\n",
       "    </tr>\n",
       "    <tr>\n",
       "      <th>2</th>\n",
       "      <td>2011-01-01 02:00:00</td>\n",
       "      <td>1</td>\n",
       "      <td>0</td>\n",
       "      <td>0</td>\n",
       "      <td>1</td>\n",
       "      <td>9.02</td>\n",
       "      <td>13.635</td>\n",
       "      <td>80</td>\n",
       "      <td>0.0</td>\n",
       "      <td>5</td>\n",
       "      <td>27</td>\n",
       "      <td>32</td>\n",
       "    </tr>\n",
       "    <tr>\n",
       "      <th>3</th>\n",
       "      <td>2011-01-01 03:00:00</td>\n",
       "      <td>1</td>\n",
       "      <td>0</td>\n",
       "      <td>0</td>\n",
       "      <td>1</td>\n",
       "      <td>9.84</td>\n",
       "      <td>14.395</td>\n",
       "      <td>75</td>\n",
       "      <td>0.0</td>\n",
       "      <td>3</td>\n",
       "      <td>10</td>\n",
       "      <td>13</td>\n",
       "    </tr>\n",
       "    <tr>\n",
       "      <th>4</th>\n",
       "      <td>2011-01-01 04:00:00</td>\n",
       "      <td>1</td>\n",
       "      <td>0</td>\n",
       "      <td>0</td>\n",
       "      <td>1</td>\n",
       "      <td>9.84</td>\n",
       "      <td>14.395</td>\n",
       "      <td>75</td>\n",
       "      <td>0.0</td>\n",
       "      <td>0</td>\n",
       "      <td>1</td>\n",
       "      <td>1</td>\n",
       "    </tr>\n",
       "  </tbody>\n",
       "</table>\n",
       "</div>"
      ],
      "text/plain": [
       "              datetime  season  holiday  workingday  weather  temp   atemp  \\\n",
       "0  2011-01-01 00:00:00       1        0           0        1  9.84  14.395   \n",
       "1  2011-01-01 01:00:00       1        0           0        1  9.02  13.635   \n",
       "2  2011-01-01 02:00:00       1        0           0        1  9.02  13.635   \n",
       "3  2011-01-01 03:00:00       1        0           0        1  9.84  14.395   \n",
       "4  2011-01-01 04:00:00       1        0           0        1  9.84  14.395   \n",
       "\n",
       "   humidity  windspeed  casual  registered  count  \n",
       "0        81        0.0       3          13     16  \n",
       "1        80        0.0       8          32     40  \n",
       "2        80        0.0       5          27     32  \n",
       "3        75        0.0       3          10     13  \n",
       "4        75        0.0       0           1      1  "
      ]
     },
     "execution_count": 2,
     "metadata": {},
     "output_type": "execute_result"
    }
   ],
   "source": [
    "import numpy as np\n",
    "import pandas as pd\n",
    "\n",
    "from datetime import datetime\n",
    "\n",
    "train =  pd.read_csv('../data/train.csv')\n",
    "test = pd.read_csv('../data/test.csv')\n",
    "train.head()"
   ]
  },
  {
   "cell_type": "code",
   "execution_count": 3,
   "metadata": {},
   "outputs": [
    {
     "data": {
      "text/plain": [
       "datetime       object\n",
       "season          int64\n",
       "holiday         int64\n",
       "workingday      int64\n",
       "weather         int64\n",
       "temp          float64\n",
       "atemp         float64\n",
       "humidity        int64\n",
       "windspeed     float64\n",
       "casual          int64\n",
       "registered      int64\n",
       "count           int64\n",
       "dtype: object"
      ]
     },
     "execution_count": 3,
     "metadata": {},
     "output_type": "execute_result"
    }
   ],
   "source": [
    "train.dtypes"
   ]
  },
  {
   "cell_type": "markdown",
   "metadata": {},
   "source": [
    "# 项目数据描述如下：\n",
    "```\n",
    "       (1) datetime：代表数据日期，以年-月-日 小时的形式给出。 \n",
    "       (2) season：数据记录时的季节。1 为春季, 2为夏季,3 为秋季,4 为冬季。 \n",
    "       (3) hodliday：当日是否为假期。1代表是，0代表不是。 \n",
    "       (4) workingday：当日是否为工作日，即既不是周末也不是假期。1代表是，0代表不是。 \n",
    "       (5) weather:当日天气： \n",
    "              1: 天气晴朗或者少云/部分有云。 \n",
    "              2: 有雾和云/风等。 \n",
    "              3: 小雪/小雨，闪电及多云。 \n",
    "              4: 大雨/冰雹/闪电和大雾/大雪。 \n",
    "       (6) temp - 当日摄氏温度。 \n",
    "       (7) atemp - 当日人们感觉的温度。\n",
    "       (8) humidity - 当日湿度。 \n",
    "       (9) windspeed - 风速。 \n",
    "       (10) casual -非预定自行车的人数 \n",
    "       (11) registered - 登记预定自信车的人数。 \n",
    "       (12) count - 总租车数，我们需要预测的值。即casual+registered数目。 \n",
    "```\n",
    "\n",
    "自觉上的分析：\n",
    "\n",
    "```\n",
    "1 从datetime中提取出月份、日期、workday 、小时等消息，一般来说：不同季节、不同日期、是否是周末、上下班时间的租车数量是不同的\n",
    "2 天气特征：temp、atemp需要分析其相关性，是否可以保留一个就好了（去除另外一个）\n",
    "3 casual 和registered之和是 count总数，这两列可以移除\n",
    "4  datetime抽取特征后也可以移除\n",
    "```"
   ]
  },
  {
   "cell_type": "code",
   "execution_count": 4,
   "metadata": {},
   "outputs": [
    {
     "name": "stderr",
     "output_type": "stream",
     "text": [
      "/anaconda3/lib/python3.7/site-packages/scipy/stats/stats.py:1713: FutureWarning: Using a non-tuple sequence for multidimensional indexing is deprecated; use `arr[tuple(seq)]` instead of `arr[seq]`. In the future this will be interpreted as an array index, `arr[np.array(seq)]`, which will result either in an error or a different result.\n",
      "  return np.add.reduce(sorted[indexer] * weights, axis=axis) / sumval\n"
     ]
    },
    {
     "data": {
      "image/png": "[encoded data removed]",
      "text/plain": [
       "<Figure size 432x288 with 1 Axes>"
      ]
     },
     "metadata": {
      "needs_background": "light"
     },
     "output_type": "display_data"
    },
    {
     "data": {
      "image/png": "[encoded data removed]",
      "text/plain": [
       "<Figure size 432x288 with 1 Axes>"
      ]
     },
     "metadata": {
      "needs_background": "light"
     },
     "output_type": "display_data"
    }
   ],
   "source": [
    "labels =  train['count']\n",
    "sns.distplot(labels)\n",
    "plt.show()\n",
    "labels = labels.apply(lambda x: np.log1p(x))\n",
    "sns.distplot(labels)\n",
    "plt.show()"
   ]
  },
  {
   "cell_type": "markdown",
   "metadata": {},
   "source": [
    "# 2 特征工程\n",
    "\n",
    "1 从上述分析，['season','holiday','workingday','weather',] 应该被处理成categorical   \n",
    "2 需要从datetime中抽取出 'date', 'hour', 'weekday','month'等特征   \n",
    "3 移除datetime"
   ]
  },
  {
   "cell_type": "markdown",
   "metadata": {},
   "source": [
    "##  2.1 从datetime中抽取出 "
   ]
  },
  {
   "cell_type": "code",
   "execution_count": 5,
   "metadata": {},
   "outputs": [],
   "source": [
    "dailyData = train"
   ]
  },
  {
   "cell_type": "code",
   "execution_count": 6,
   "metadata": {},
   "outputs": [],
   "source": [
    "import calendar \n",
    "from datetime import datetime\n",
    "\n",
    "dailyData= train\n",
    "# dailyData['datetime'] = dailyData.datetime.apply(lambda x: x.date)\n",
    "dailyData.datetime =  dailyData.datetime.apply(pd.to_datetime)\n",
    "dailyData['month'] = dailyData.datetime.apply(lambda x: x.month)\n",
    "dailyData['hour'] = dailyData.datetime.apply(lambda x:x.hour)\n",
    "dailyData['year'] = dailyData.datetime.apply(lambda x:x.year)\n",
    "dailyData['weekday'] =  dailyData.datetime.apply(lambda x: x.weekday())"
   ]
  },
  {
   "cell_type": "code",
   "execution_count": 7,
   "metadata": {},
   "outputs": [
    {
     "data": {
      "text/html": [
       "<div>\n",
       "<style scoped>\n",
       "    .dataframe tbody tr th:only-of-type {\n",
       "        vertical-align: middle;\n",
       "    }\n",
       "\n",
       "    .dataframe tbody tr th {\n",
       "        vertical-align: top;\n",
       "    }\n",
       "\n",
       "    .dataframe thead th {\n",
       "        text-align: right;\n",
       "    }\n",
       "</style>\n",
       "<table border=\"1\" class=\"dataframe\">\n",
       "  <thead>\n",
       "    <tr style=\"text-align: right;\">\n",
       "      <th></th>\n",
       "      <th>datetime</th>\n",
       "      <th>season</th>\n",
       "      <th>holiday</th>\n",
       "      <th>workingday</th>\n",
       "      <th>weather</th>\n",
       "      <th>temp</th>\n",
       "      <th>atemp</th>\n",
       "      <th>humidity</th>\n",
       "      <th>windspeed</th>\n",
       "      <th>casual</th>\n",
       "      <th>registered</th>\n",
       "      <th>count</th>\n",
       "      <th>month</th>\n",
       "      <th>hour</th>\n",
       "      <th>year</th>\n",
       "      <th>weekday</th>\n",
       "    </tr>\n",
       "  </thead>\n",
       "  <tbody>\n",
       "    <tr>\n",
       "      <th>0</th>\n",
       "      <td>2011-01-01</td>\n",
       "      <td>1</td>\n",
       "      <td>0</td>\n",
       "      <td>0</td>\n",
       "      <td>1</td>\n",
       "      <td>9.84</td>\n",
       "      <td>14.395</td>\n",
       "      <td>81</td>\n",
       "      <td>0.0</td>\n",
       "      <td>3</td>\n",
       "      <td>13</td>\n",
       "      <td>16</td>\n",
       "      <td>1</td>\n",
       "      <td>0</td>\n",
       "      <td>2011</td>\n",
       "      <td>5</td>\n",
       "    </tr>\n",
       "  </tbody>\n",
       "</table>\n",
       "</div>"
      ],
      "text/plain": [
       "    datetime  season  holiday  workingday  weather  temp   atemp  humidity  \\\n",
       "0 2011-01-01       1        0           0        1  9.84  14.395        81   \n",
       "\n",
       "   windspeed  casual  registered  count  month  hour  year  weekday  \n",
       "0        0.0       3          13     16      1     0  2011        5  "
      ]
     },
     "execution_count": 7,
     "metadata": {},
     "output_type": "execute_result"
    }
   ],
   "source": [
    "dailyData.head(1)"
   ]
  },
  {
   "cell_type": "code",
   "execution_count": 8,
   "metadata": {},
   "outputs": [],
   "source": [
    "numericalFeatureNames = [\"temp\",\"humidity\",\"atemp\"]\n",
    "dropFeatures = ['casual',\"count\",\"datetime\",\"registered\",\"windspeed\"]\n",
    "categryVariable = ['season', 'holiday',\"workingday\",\"weather\",\"month\",\"hour\",\"weekday\"]"
   ]
  },
  {
   "cell_type": "code",
   "execution_count": 9,
   "metadata": {},
   "outputs": [
    {
     "data": {
      "text/html": [
       "<div>\n",
       "<style scoped>\n",
       "    .dataframe tbody tr th:only-of-type {\n",
       "        vertical-align: middle;\n",
       "    }\n",
       "\n",
       "    .dataframe tbody tr th {\n",
       "        vertical-align: top;\n",
       "    }\n",
       "\n",
       "    .dataframe thead th {\n",
       "        text-align: right;\n",
       "    }\n",
       "</style>\n",
       "<table border=\"1\" class=\"dataframe\">\n",
       "  <thead>\n",
       "    <tr style=\"text-align: right;\">\n",
       "      <th></th>\n",
       "      <th>datetime</th>\n",
       "      <th>season</th>\n",
       "      <th>holiday</th>\n",
       "      <th>workingday</th>\n",
       "      <th>weather</th>\n",
       "      <th>temp</th>\n",
       "      <th>atemp</th>\n",
       "      <th>humidity</th>\n",
       "      <th>windspeed</th>\n",
       "      <th>casual</th>\n",
       "      <th>...</th>\n",
       "      <th>hour_21</th>\n",
       "      <th>hour_22</th>\n",
       "      <th>hour_23</th>\n",
       "      <th>weekday_0</th>\n",
       "      <th>weekday_1</th>\n",
       "      <th>weekday_2</th>\n",
       "      <th>weekday_3</th>\n",
       "      <th>weekday_4</th>\n",
       "      <th>weekday_5</th>\n",
       "      <th>weekday_6</th>\n",
       "    </tr>\n",
       "  </thead>\n",
       "  <tbody>\n",
       "    <tr>\n",
       "      <th>0</th>\n",
       "      <td>2011-01-01</td>\n",
       "      <td>1</td>\n",
       "      <td>0</td>\n",
       "      <td>0</td>\n",
       "      <td>1</td>\n",
       "      <td>9.84</td>\n",
       "      <td>14.395</td>\n",
       "      <td>81</td>\n",
       "      <td>0.0</td>\n",
       "      <td>3</td>\n",
       "      <td>...</td>\n",
       "      <td>0</td>\n",
       "      <td>0</td>\n",
       "      <td>0</td>\n",
       "      <td>0</td>\n",
       "      <td>0</td>\n",
       "      <td>0</td>\n",
       "      <td>0</td>\n",
       "      <td>0</td>\n",
       "      <td>1</td>\n",
       "      <td>0</td>\n",
       "    </tr>\n",
       "  </tbody>\n",
       "</table>\n",
       "<p>1 rows × 71 columns</p>\n",
       "</div>"
      ],
      "text/plain": [
       "    datetime  season  holiday  workingday  weather  temp   atemp  humidity  \\\n",
       "0 2011-01-01       1        0           0        1  9.84  14.395        81   \n",
       "\n",
       "   windspeed  casual    ...      hour_21  hour_22  hour_23  weekday_0  \\\n",
       "0        0.0       3    ...            0        0        0          0   \n",
       "\n",
       "   weekday_1  weekday_2  weekday_3  weekday_4  weekday_5  weekday_6  \n",
       "0          0          0          0          0          1          0  \n",
       "\n",
       "[1 rows x 71 columns]"
      ]
     },
     "execution_count": 9,
     "metadata": {},
     "output_type": "execute_result"
    }
   ],
   "source": [
    "for category in categryVariable:\n",
    "    dummy = pd.get_dummies(dailyData[category], prefix=category)\n",
    "    dailyData  = dailyData.join(dummy)\n",
    "dailyData.head(1)"
   ]
  },
  {
   "cell_type": "code",
   "execution_count": 10,
   "metadata": {},
   "outputs": [
    {
     "data": {
      "text/html": [
       "<div>\n",
       "<style scoped>\n",
       "    .dataframe tbody tr th:only-of-type {\n",
       "        vertical-align: middle;\n",
       "    }\n",
       "\n",
       "    .dataframe tbody tr th {\n",
       "        vertical-align: top;\n",
       "    }\n",
       "\n",
       "    .dataframe thead th {\n",
       "        text-align: right;\n",
       "    }\n",
       "</style>\n",
       "<table border=\"1\" class=\"dataframe\">\n",
       "  <thead>\n",
       "    <tr style=\"text-align: right;\">\n",
       "      <th></th>\n",
       "      <th>datetime</th>\n",
       "      <th>temp</th>\n",
       "      <th>atemp</th>\n",
       "      <th>humidity</th>\n",
       "      <th>windspeed</th>\n",
       "      <th>casual</th>\n",
       "      <th>registered</th>\n",
       "      <th>count</th>\n",
       "      <th>year</th>\n",
       "      <th>season_1</th>\n",
       "      <th>...</th>\n",
       "      <th>hour_21</th>\n",
       "      <th>hour_22</th>\n",
       "      <th>hour_23</th>\n",
       "      <th>weekday_0</th>\n",
       "      <th>weekday_1</th>\n",
       "      <th>weekday_2</th>\n",
       "      <th>weekday_3</th>\n",
       "      <th>weekday_4</th>\n",
       "      <th>weekday_5</th>\n",
       "      <th>weekday_6</th>\n",
       "    </tr>\n",
       "  </thead>\n",
       "  <tbody>\n",
       "    <tr>\n",
       "      <th>0</th>\n",
       "      <td>2011-01-01</td>\n",
       "      <td>9.84</td>\n",
       "      <td>14.395</td>\n",
       "      <td>81</td>\n",
       "      <td>0.0</td>\n",
       "      <td>3</td>\n",
       "      <td>13</td>\n",
       "      <td>16</td>\n",
       "      <td>2011</td>\n",
       "      <td>1</td>\n",
       "      <td>...</td>\n",
       "      <td>0</td>\n",
       "      <td>0</td>\n",
       "      <td>0</td>\n",
       "      <td>0</td>\n",
       "      <td>0</td>\n",
       "      <td>0</td>\n",
       "      <td>0</td>\n",
       "      <td>0</td>\n",
       "      <td>1</td>\n",
       "      <td>0</td>\n",
       "    </tr>\n",
       "  </tbody>\n",
       "</table>\n",
       "<p>1 rows × 64 columns</p>\n",
       "</div>"
      ],
      "text/plain": [
       "    datetime  temp   atemp  humidity  windspeed  casual  registered  count  \\\n",
       "0 2011-01-01  9.84  14.395        81        0.0       3          13     16   \n",
       "\n",
       "   year  season_1    ...      hour_21  hour_22  hour_23  weekday_0  weekday_1  \\\n",
       "0  2011         1    ...            0        0        0          0          0   \n",
       "\n",
       "   weekday_2  weekday_3  weekday_4  weekday_5  weekday_6  \n",
       "0          0          0          0          1          0  \n",
       "\n",
       "[1 rows x 64 columns]"
      ]
     },
     "execution_count": 10,
     "metadata": {},
     "output_type": "execute_result"
    }
   ],
   "source": [
    "dailyData= dailyData.drop(categryVariable, axis=1)\n",
    "dailyData.head(1)"
   ]
  },
  {
   "cell_type": "code",
   "execution_count": 11,
   "metadata": {},
   "outputs": [],
   "source": [
    "dailyData = dailyData.drop(dropFeatures, axis=1)\n",
    "# dailyData.dtypes"
   ]
  },
  {
   "cell_type": "code",
   "execution_count": 12,
   "metadata": {},
   "outputs": [
    {
     "data": {
      "text/plain": [
       "Index(['temp', 'atemp', 'humidity', 'year', 'season_1', 'season_2', 'season_3',\n",
       "       'season_4', 'holiday_0', 'holiday_1', 'workingday_0', 'workingday_1',\n",
       "       'weather_1', 'weather_2', 'weather_3', 'weather_4', 'month_1',\n",
       "       'month_2', 'month_3', 'month_4', 'month_5', 'month_6', 'month_7',\n",
       "       'month_8', 'month_9', 'month_10', 'month_11', 'month_12', 'hour_0',\n",
       "       'hour_1', 'hour_2', 'hour_3', 'hour_4', 'hour_5', 'hour_6', 'hour_7',\n",
       "       'hour_8', 'hour_9', 'hour_10', 'hour_11', 'hour_12', 'hour_13',\n",
       "       'hour_14', 'hour_15', 'hour_16', 'hour_17', 'hour_18', 'hour_19',\n",
       "       'hour_20', 'hour_21', 'hour_22', 'hour_23', 'weekday_0', 'weekday_1',\n",
       "       'weekday_2', 'weekday_3', 'weekday_4', 'weekday_5', 'weekday_6'],\n",
       "      dtype='object')"
      ]
     },
     "execution_count": 12,
     "metadata": {},
     "output_type": "execute_result"
    }
   ],
   "source": [
    "dailyData.columns"
   ]
  },
  {
   "cell_type": "markdown",
   "metadata": {},
   "source": [
    "# 3 模型训练"
   ]
  },
  {
   "cell_type": "markdown",
   "metadata": {},
   "source": [
    "## 3.1 定义代价函数\n",
    "评价指标\n",
    "$$ \\sqrt{\\frac{1}{n} \\sum_{i=1}^n (\\log(p_i + 1) - \\log(a_i+1))^2 } $$\n",
    "\n",
    "lg1p 与 expm1 是一对相反操作\n",
    " \n",
    "log1p := log(x+1) 即ln(x+1)\n",
    "expm1 := exp(x)-1"
   ]
  },
  {
   "cell_type": "code",
   "execution_count": 13,
   "metadata": {},
   "outputs": [],
   "source": [
    "# 定义代价函数\n",
    "def rmsle(y, y_):\n",
    "    y =  np.expm1(y)\n",
    "    y_ =  np.expm1(y_)\n",
    "    log1 = np.nan_to_num(np.array([np.log(v+1) for v in y]))\n",
    "    log2 = np.nan_to_num(np.array([np.log(v+1) for v in y_]))\n",
    "    cal = np.square(log1 - log2)\n",
    "    return np.sqrt(np.mean(cal))\n"
   ]
  },
  {
   "cell_type": "markdown",
   "metadata": {},
   "source": [
    "## 3.2 分割训练集测试集"
   ]
  },
  {
   "cell_type": "code",
   "execution_count": 14,
   "metadata": {},
   "outputs": [],
   "source": [
    "from sklearn.model_selection import train_test_split\n",
    "\n",
    "train_data,test_data, train_labels,test_labels = train_test_split(dailyData, labels,test_size=0.235, random_state=42)"
   ]
  },
  {
   "cell_type": "code",
   "execution_count": 15,
   "metadata": {},
   "outputs": [
    {
     "data": {
      "text/plain": [
       "((8327, 59), (2559, 59))"
      ]
     },
     "execution_count": 15,
     "metadata": {},
     "output_type": "execute_result"
    }
   ],
   "source": [
    "train_data.shape, test_data.shape"
   ]
  },
  {
   "cell_type": "markdown",
   "metadata": {},
   "source": [
    "## 3.3 线性回归模型\n"
   ]
  },
  {
   "cell_type": "code",
   "execution_count": 18,
   "metadata": {},
   "outputs": [
    {
     "name": "stdout",
     "output_type": "stream",
     "text": [
      "rmsle liner regression: 0.5756022067108384\n"
     ]
    }
   ],
   "source": [
    "from sklearn.linear_model import LinearRegression, Ridge,Lasso\n",
    "from sklearn.model_selection import GridSearchCV\n",
    "from sklearn import metrics\n",
    "# import warnings\n",
    "# pd.options.mode.chained_assignment = None\n",
    "# warnings.filterwarnings(\"ignore\", category=DeprecationWarning)\n",
    "liner_model = LinearRegression()\n",
    "liner_model.fit(train_data, train_labels)\n",
    "preds = liner_model.predict(test_data)\n",
    "print('rmsle liner regression:', rmsle(test_labels, preds))"
   ]
  },
  {
   "cell_type": "markdown",
   "metadata": {},
   "source": [
    "## 3.2 正则化model 岭回归"
   ]
  },
  {
   "cell_type": "code",
   "execution_count": 22,
   "metadata": {},
   "outputs": [
    {
     "name": "stdout",
     "output_type": "stream",
     "text": [
      "{'alpha': 1, 'max_iter': 3000}\n",
      "rmsle : ridge regression:  0.5757099138352254\n"
     ]
    },
    {
     "name": "stderr",
     "output_type": "stream",
     "text": [
      "/anaconda3/lib/python3.7/site-packages/sklearn/utils/deprecation.py:125: FutureWarning: You are accessing a training score ('split0_train_score'), which will not be available by default any more in 0.21. If you need training scores, please set return_train_score=True\n",
      "  warnings.warn(*warn_args, **warn_kwargs)\n",
      "/anaconda3/lib/python3.7/site-packages/sklearn/utils/deprecation.py:125: FutureWarning: You are accessing a training score ('split1_train_score'), which will not be available by default any more in 0.21. If you need training scores, please set return_train_score=True\n",
      "  warnings.warn(*warn_args, **warn_kwargs)\n",
      "/anaconda3/lib/python3.7/site-packages/sklearn/utils/deprecation.py:125: FutureWarning: You are accessing a training score ('split2_train_score'), which will not be available by default any more in 0.21. If you need training scores, please set return_train_score=True\n",
      "  warnings.warn(*warn_args, **warn_kwargs)\n",
      "/anaconda3/lib/python3.7/site-packages/sklearn/utils/deprecation.py:125: FutureWarning: You are accessing a training score ('split3_train_score'), which will not be available by default any more in 0.21. If you need training scores, please set return_train_score=True\n",
      "  warnings.warn(*warn_args, **warn_kwargs)\n",
      "/anaconda3/lib/python3.7/site-packages/sklearn/utils/deprecation.py:125: FutureWarning: You are accessing a training score ('split4_train_score'), which will not be available by default any more in 0.21. If you need training scores, please set return_train_score=True\n",
      "  warnings.warn(*warn_args, **warn_kwargs)\n",
      "/anaconda3/lib/python3.7/site-packages/sklearn/utils/deprecation.py:125: FutureWarning: You are accessing a training score ('mean_train_score'), which will not be available by default any more in 0.21. If you need training scores, please set return_train_score=True\n",
      "  warnings.warn(*warn_args, **warn_kwargs)\n",
      "/anaconda3/lib/python3.7/site-packages/sklearn/utils/deprecation.py:125: FutureWarning: You are accessing a training score ('std_train_score'), which will not be available by default any more in 0.21. If you need training scores, please set return_train_score=True\n",
      "  warnings.warn(*warn_args, **warn_kwargs)\n"
     ]
    },
    {
     "data": {
      "text/plain": [
       "<matplotlib.axes._subplots.AxesSubplot at 0x1a23909cf8>"
      ]
     },
     "execution_count": 22,
     "metadata": {},
     "output_type": "execute_result"
    },
    {
     "data": {
      "image/png": "[encoded data removed]",
      "text/plain": [
       "<Figure size 864x360 with 1 Axes>"
      ]
     },
     "metadata": {
      "needs_background": "light"
     },
     "output_type": "display_data"
    }
   ],
   "source": [
    "import matplotlib.pyplot as plt\n",
    "\n",
    "from sklearn import metrics\n",
    "\n",
    "from sklearn.model_selection import GridSearchCV\n",
    "ridge_model = Ridge()\n",
    "ridge_params = { 'max_iter':[3000],'alpha':[0.1, 1, 2, 3, 4, 10, 30,100,200,300,400,800,900,1000]}\n",
    "rmsle_scorer = metrics.make_scorer(rmsle, greater_is_better=False)\n",
    "grid_ridge_m = GridSearchCV( ridge_model,\n",
    "                          ridge_params,\n",
    "                          scoring = rmsle_scorer,\n",
    "                          cv=5)\n",
    "\n",
    "grid_ridge_m.fit(train_data, train_labels)\n",
    "preds = grid_ridge_m.predict(test_data)\n",
    "print (grid_ridge_m.best_params_)\n",
    "print (\"rmsle : ridge regression: \",rmsle(test_labels, preds))\n",
    "\n",
    "fig,ax= plt.subplots()\n",
    "fig.set_size_inches(12,5)\n",
    "df = pd.DataFrame(grid_ridge_m.cv_results_)\n",
    "df[\"alpha\"] = df[\"params\"].apply(lambda x:x[\"alpha\"])\n",
    "df[\"rmsle\"] = df[\"mean_test_score\"].apply(lambda x:-x)\n",
    "sns.pointplot(data=df, x=\"alpha\", y=\"rmsle\", ax=ax)"
   ]
  },
  {
   "cell_type": "code",
   "execution_count": 23,
   "metadata": {},
   "outputs": [
    {
     "name": "stdout",
     "output_type": "stream",
     "text": [
      "RMSLE Value For Ridge Regression:  0.5757099138352254\n"
     ]
    }
   ],
   "source": [
    "ridge = Ridge(alpha= 1, max_iter=3000)\n",
    "ridge.fit(train_data, train_labels)\n",
    "preds = ridge.predict(test_data)\n",
    "print (\"RMSLE Value For Ridge Regression: \",rmsle(test_labels, preds))\n"
   ]
  },
  {
   "cell_type": "markdown",
   "metadata": {},
   "source": [
    "## 3.3 LASSO"
   ]
  },
  {
   "cell_type": "code",
   "execution_count": 28,
   "metadata": {},
   "outputs": [
    {
     "name": "stderr",
     "output_type": "stream",
     "text": [
      "/anaconda3/lib/python3.7/site-packages/sklearn/linear_model/coordinate_descent.py:492: ConvergenceWarning: Objective did not converge. You might want to increase the number of iterations. Fitting data with very small alpha may cause precision problems.\n",
      "  ConvergenceWarning)\n",
      "/anaconda3/lib/python3.7/site-packages/sklearn/linear_model/coordinate_descent.py:492: ConvergenceWarning: Objective did not converge. You might want to increase the number of iterations. Fitting data with very small alpha may cause precision problems.\n",
      "  ConvergenceWarning)\n",
      "/anaconda3/lib/python3.7/site-packages/sklearn/linear_model/coordinate_descent.py:492: ConvergenceWarning: Objective did not converge. You might want to increase the number of iterations. Fitting data with very small alpha may cause precision problems.\n",
      "  ConvergenceWarning)\n",
      "/anaconda3/lib/python3.7/site-packages/sklearn/linear_model/coordinate_descent.py:492: ConvergenceWarning: Objective did not converge. You might want to increase the number of iterations. Fitting data with very small alpha may cause precision problems.\n",
      "  ConvergenceWarning)\n",
      "/anaconda3/lib/python3.7/site-packages/sklearn/linear_model/coordinate_descent.py:492: ConvergenceWarning: Objective did not converge. You might want to increase the number of iterations. Fitting data with very small alpha may cause precision problems.\n",
      "  ConvergenceWarning)\n",
      "/anaconda3/lib/python3.7/site-packages/sklearn/linear_model/coordinate_descent.py:492: ConvergenceWarning: Objective did not converge. You might want to increase the number of iterations. Fitting data with very small alpha may cause precision problems.\n",
      "  ConvergenceWarning)\n",
      "/anaconda3/lib/python3.7/site-packages/sklearn/linear_model/coordinate_descent.py:492: ConvergenceWarning: Objective did not converge. You might want to increase the number of iterations. Fitting data with very small alpha may cause precision problems.\n",
      "  ConvergenceWarning)\n",
      "/anaconda3/lib/python3.7/site-packages/sklearn/linear_model/coordinate_descent.py:492: ConvergenceWarning: Objective did not converge. You might want to increase the number of iterations. Fitting data with very small alpha may cause precision problems.\n",
      "  ConvergenceWarning)\n",
      "/anaconda3/lib/python3.7/site-packages/sklearn/linear_model/coordinate_descent.py:492: ConvergenceWarning: Objective did not converge. You might want to increase the number of iterations. Fitting data with very small alpha may cause precision problems.\n",
      "  ConvergenceWarning)\n",
      "/anaconda3/lib/python3.7/site-packages/sklearn/linear_model/coordinate_descent.py:492: ConvergenceWarning: Objective did not converge. You might want to increase the number of iterations. Fitting data with very small alpha may cause precision problems.\n",
      "  ConvergenceWarning)\n",
      "/anaconda3/lib/python3.7/site-packages/sklearn/linear_model/coordinate_descent.py:492: ConvergenceWarning: Objective did not converge. You might want to increase the number of iterations. Fitting data with very small alpha may cause precision problems.\n",
      "  ConvergenceWarning)\n",
      "/anaconda3/lib/python3.7/site-packages/sklearn/linear_model/coordinate_descent.py:492: ConvergenceWarning: Objective did not converge. You might want to increase the number of iterations. Fitting data with very small alpha may cause precision problems.\n",
      "  ConvergenceWarning)\n",
      "/anaconda3/lib/python3.7/site-packages/sklearn/linear_model/coordinate_descent.py:492: ConvergenceWarning: Objective did not converge. You might want to increase the number of iterations. Fitting data with very small alpha may cause precision problems.\n",
      "  ConvergenceWarning)\n",
      "/anaconda3/lib/python3.7/site-packages/sklearn/linear_model/coordinate_descent.py:492: ConvergenceWarning: Objective did not converge. You might want to increase the number of iterations. Fitting data with very small alpha may cause precision problems.\n",
      "  ConvergenceWarning)\n",
      "/anaconda3/lib/python3.7/site-packages/sklearn/linear_model/coordinate_descent.py:492: ConvergenceWarning: Objective did not converge. You might want to increase the number of iterations. Fitting data with very small alpha may cause precision problems.\n",
      "  ConvergenceWarning)\n",
      "/anaconda3/lib/python3.7/site-packages/sklearn/linear_model/coordinate_descent.py:492: ConvergenceWarning: Objective did not converge. You might want to increase the number of iterations. Fitting data with very small alpha may cause precision problems.\n",
      "  ConvergenceWarning)\n",
      "/anaconda3/lib/python3.7/site-packages/sklearn/linear_model/coordinate_descent.py:492: ConvergenceWarning: Objective did not converge. You might want to increase the number of iterations. Fitting data with very small alpha may cause precision problems.\n",
      "  ConvergenceWarning)\n",
      "/anaconda3/lib/python3.7/site-packages/sklearn/linear_model/coordinate_descent.py:492: ConvergenceWarning: Objective did not converge. You might want to increase the number of iterations. Fitting data with very small alpha may cause precision problems.\n",
      "  ConvergenceWarning)\n",
      "/anaconda3/lib/python3.7/site-packages/sklearn/linear_model/coordinate_descent.py:492: ConvergenceWarning: Objective did not converge. You might want to increase the number of iterations. Fitting data with very small alpha may cause precision problems.\n",
      "  ConvergenceWarning)\n",
      "/anaconda3/lib/python3.7/site-packages/sklearn/linear_model/coordinate_descent.py:492: ConvergenceWarning: Objective did not converge. You might want to increase the number of iterations. Fitting data with very small alpha may cause precision problems.\n",
      "  ConvergenceWarning)\n",
      "/anaconda3/lib/python3.7/site-packages/sklearn/linear_model/coordinate_descent.py:492: ConvergenceWarning: Objective did not converge. You might want to increase the number of iterations. Fitting data with very small alpha may cause precision problems.\n",
      "  ConvergenceWarning)\n",
      "/anaconda3/lib/python3.7/site-packages/sklearn/linear_model/coordinate_descent.py:492: ConvergenceWarning: Objective did not converge. You might want to increase the number of iterations. Fitting data with very small alpha may cause precision problems.\n",
      "  ConvergenceWarning)\n",
      "/anaconda3/lib/python3.7/site-packages/sklearn/linear_model/coordinate_descent.py:492: ConvergenceWarning: Objective did not converge. You might want to increase the number of iterations. Fitting data with very small alpha may cause precision problems.\n",
      "  ConvergenceWarning)\n",
      "/anaconda3/lib/python3.7/site-packages/sklearn/linear_model/coordinate_descent.py:492: ConvergenceWarning: Objective did not converge. You might want to increase the number of iterations. Fitting data with very small alpha may cause precision problems.\n",
      "  ConvergenceWarning)\n",
      "/anaconda3/lib/python3.7/site-packages/sklearn/linear_model/coordinate_descent.py:492: ConvergenceWarning: Objective did not converge. You might want to increase the number of iterations. Fitting data with very small alpha may cause precision problems.\n",
      "  ConvergenceWarning)\n",
      "/anaconda3/lib/python3.7/site-packages/sklearn/linear_model/coordinate_descent.py:492: ConvergenceWarning: Objective did not converge. You might want to increase the number of iterations. Fitting data with very small alpha may cause precision problems.\n",
      "  ConvergenceWarning)\n",
      "/anaconda3/lib/python3.7/site-packages/sklearn/linear_model/coordinate_descent.py:492: ConvergenceWarning: Objective did not converge. You might want to increase the number of iterations. Fitting data with very small alpha may cause precision problems.\n",
      "  ConvergenceWarning)\n",
      "/anaconda3/lib/python3.7/site-packages/sklearn/linear_model/coordinate_descent.py:492: ConvergenceWarning: Objective did not converge. You might want to increase the number of iterations. Fitting data with very small alpha may cause precision problems.\n",
      "  ConvergenceWarning)\n",
      "/anaconda3/lib/python3.7/site-packages/sklearn/linear_model/coordinate_descent.py:492: ConvergenceWarning: Objective did not converge. You might want to increase the number of iterations. Fitting data with very small alpha may cause precision problems.\n",
      "  ConvergenceWarning)\n",
      "/anaconda3/lib/python3.7/site-packages/sklearn/linear_model/coordinate_descent.py:492: ConvergenceWarning: Objective did not converge. You might want to increase the number of iterations. Fitting data with very small alpha may cause precision problems.\n",
      "  ConvergenceWarning)\n",
      "/anaconda3/lib/python3.7/site-packages/sklearn/linear_model/coordinate_descent.py:492: ConvergenceWarning: Objective did not converge. You might want to increase the number of iterations. Fitting data with very small alpha may cause precision problems.\n",
      "  ConvergenceWarning)\n"
     ]
    },
    {
     "name": "stderr",
     "output_type": "stream",
     "text": [
      "/anaconda3/lib/python3.7/site-packages/sklearn/linear_model/coordinate_descent.py:492: ConvergenceWarning: Objective did not converge. You might want to increase the number of iterations. Fitting data with very small alpha may cause precision problems.\n",
      "  ConvergenceWarning)\n",
      "/anaconda3/lib/python3.7/site-packages/sklearn/linear_model/coordinate_descent.py:492: ConvergenceWarning: Objective did not converge. You might want to increase the number of iterations. Fitting data with very small alpha may cause precision problems.\n",
      "  ConvergenceWarning)\n",
      "/anaconda3/lib/python3.7/site-packages/sklearn/linear_model/coordinate_descent.py:492: ConvergenceWarning: Objective did not converge. You might want to increase the number of iterations. Fitting data with very small alpha may cause precision problems.\n",
      "  ConvergenceWarning)\n",
      "/anaconda3/lib/python3.7/site-packages/sklearn/linear_model/coordinate_descent.py:492: ConvergenceWarning: Objective did not converge. You might want to increase the number of iterations. Fitting data with very small alpha may cause precision problems.\n",
      "  ConvergenceWarning)\n",
      "/anaconda3/lib/python3.7/site-packages/sklearn/linear_model/coordinate_descent.py:492: ConvergenceWarning: Objective did not converge. You might want to increase the number of iterations. Fitting data with very small alpha may cause precision problems.\n",
      "  ConvergenceWarning)\n"
     ]
    },
    {
     "name": "stdout",
     "output_type": "stream",
     "text": [
      "{'alpha': 0.0002, 'max_iter': 200}\n",
      "RMSLE Value For Lasso Regression:  0.5758179321753655\n"
     ]
    },
    {
     "name": "stderr",
     "output_type": "stream",
     "text": [
      "/anaconda3/lib/python3.7/site-packages/sklearn/utils/deprecation.py:125: FutureWarning: You are accessing a training score ('split0_train_score'), which will not be available by default any more in 0.21. If you need training scores, please set return_train_score=True\n",
      "  warnings.warn(*warn_args, **warn_kwargs)\n",
      "/anaconda3/lib/python3.7/site-packages/sklearn/utils/deprecation.py:125: FutureWarning: You are accessing a training score ('split1_train_score'), which will not be available by default any more in 0.21. If you need training scores, please set return_train_score=True\n",
      "  warnings.warn(*warn_args, **warn_kwargs)\n",
      "/anaconda3/lib/python3.7/site-packages/sklearn/utils/deprecation.py:125: FutureWarning: You are accessing a training score ('split2_train_score'), which will not be available by default any more in 0.21. If you need training scores, please set return_train_score=True\n",
      "  warnings.warn(*warn_args, **warn_kwargs)\n",
      "/anaconda3/lib/python3.7/site-packages/sklearn/utils/deprecation.py:125: FutureWarning: You are accessing a training score ('split3_train_score'), which will not be available by default any more in 0.21. If you need training scores, please set return_train_score=True\n",
      "  warnings.warn(*warn_args, **warn_kwargs)\n",
      "/anaconda3/lib/python3.7/site-packages/sklearn/utils/deprecation.py:125: FutureWarning: You are accessing a training score ('split4_train_score'), which will not be available by default any more in 0.21. If you need training scores, please set return_train_score=True\n",
      "  warnings.warn(*warn_args, **warn_kwargs)\n",
      "/anaconda3/lib/python3.7/site-packages/sklearn/utils/deprecation.py:125: FutureWarning: You are accessing a training score ('mean_train_score'), which will not be available by default any more in 0.21. If you need training scores, please set return_train_score=True\n",
      "  warnings.warn(*warn_args, **warn_kwargs)\n",
      "/anaconda3/lib/python3.7/site-packages/sklearn/utils/deprecation.py:125: FutureWarning: You are accessing a training score ('std_train_score'), which will not be available by default any more in 0.21. If you need training scores, please set return_train_score=True\n",
      "  warnings.warn(*warn_args, **warn_kwargs)\n"
     ]
    },
    {
     "data": {
      "text/plain": [
       "<matplotlib.axes._subplots.AxesSubplot at 0x1a23be4a58>"
      ]
     },
     "execution_count": 28,
     "metadata": {},
     "output_type": "execute_result"
    },
    {
     "data": {
      "image/png": "[encoded data removed]",
      "text/plain": [
       "<Figure size 864x360 with 1 Axes>"
      ]
     },
     "metadata": {
      "needs_background": "light"
     },
     "output_type": "display_data"
    }
   ],
   "source": [
    "lasso_m_ = Lasso()\n",
    "\n",
    "alpha  = 1/np.array([800,900,1000, 2000, 3000, 5000])\n",
    "lasso_params_ = { 'max_iter':[100, 200, 300],'alpha':alpha}\n",
    "\n",
    "grid_lasso_m = GridSearchCV( lasso_m_,\n",
    "                            lasso_params_,\n",
    "                            scoring = rmsle_scorer,\n",
    "                            cv=5)\n",
    "# yLabelsLog = np.log1p(train_labels)\n",
    "grid_lasso_m.fit( train_data, train_labels )\n",
    "preds = grid_lasso_m.predict(X= test_data)\n",
    "print (grid_lasso_m.best_params_)\n",
    "print (\"RMSLE Value For Lasso Regression: \",rmsle(test_labels, preds))\n",
    "\n",
    "fig,ax= plt.subplots()\n",
    "fig.set_size_inches(12,5)\n",
    "df = pd.DataFrame(grid_ridge_m.cv_results_)\n",
    "df[\"alpha\"] = df[\"params\"].apply(lambda x:x[\"alpha\"])\n",
    "df[\"rmsle\"] = df[\"mean_test_score\"].apply(lambda x:-x)\n",
    "sns.pointplot(data=df, x=\"alpha\", y=\"rmsle\", ax=ax)"
   ]
  },
  {
   "cell_type": "code",
   "execution_count": 29,
   "metadata": {},
   "outputs": [
    {
     "name": "stdout",
     "output_type": "stream",
     "text": [
      "RMSLE Value For Lasso Regression:  0.5758179321753655\n"
     ]
    }
   ],
   "source": [
    "lasso = Lasso(alpha=0.0002, max_iter=200)\n",
    "lasso.fit(train_data, train_labels)\n",
    "preds = lasso.predict(test_data)\n",
    "print (\"RMSLE Value For Lasso Regression: \",rmsle(test_labels, preds))\n"
   ]
  },
  {
   "cell_type": "markdown",
   "metadata": {},
   "source": [
    "## 3.4 ElasticNet"
   ]
  },
  {
   "cell_type": "code",
   "execution_count": 30,
   "metadata": {},
   "outputs": [
    {
     "name": "stdout",
     "output_type": "stream",
     "text": [
      "RMSLE Value For Elastic NEt Regression:  0.5775568891667752\n"
     ]
    }
   ],
   "source": [
    "from sklearn.linear_model import ElasticNet\n",
    "\n",
    "ENet = ElasticNet(alpha=0.001, l1_ratio=0.8, random_state=3)\n",
    "ENet.fit( train_data, train_labels )\n",
    "preds =  ENet.predict(test_data)\n",
    "print (\"RMSLE Value For Elastic NEt Regression: \",rmsle(test_labels, preds))\n",
    "\n"
   ]
  },
  {
   "cell_type": "markdown",
   "metadata": {},
   "source": [
    "# 4 模型融合\n",
    "## 4.1 random forest"
   ]
  },
  {
   "cell_type": "code",
   "execution_count": 39,
   "metadata": {},
   "outputs": [
    {
     "name": "stdout",
     "output_type": "stream",
     "text": [
      "{'n_estimators': 400, 'min_samples_leaf': 2}\n",
      "RMSLE Value For Random Forest Regression:  0.3238356805156599\n"
     ]
    },
    {
     "name": "stderr",
     "output_type": "stream",
     "text": [
      "/anaconda3/lib/python3.7/site-packages/sklearn/utils/deprecation.py:125: FutureWarning: You are accessing a training score ('split0_train_score'), which will not be available by default any more in 0.21. If you need training scores, please set return_train_score=True\n",
      "  warnings.warn(*warn_args, **warn_kwargs)\n",
      "/anaconda3/lib/python3.7/site-packages/sklearn/utils/deprecation.py:125: FutureWarning: You are accessing a training score ('split1_train_score'), which will not be available by default any more in 0.21. If you need training scores, please set return_train_score=True\n",
      "  warnings.warn(*warn_args, **warn_kwargs)\n",
      "/anaconda3/lib/python3.7/site-packages/sklearn/utils/deprecation.py:125: FutureWarning: You are accessing a training score ('split2_train_score'), which will not be available by default any more in 0.21. If you need training scores, please set return_train_score=True\n",
      "  warnings.warn(*warn_args, **warn_kwargs)\n",
      "/anaconda3/lib/python3.7/site-packages/sklearn/utils/deprecation.py:125: FutureWarning: You are accessing a training score ('split3_train_score'), which will not be available by default any more in 0.21. If you need training scores, please set return_train_score=True\n",
      "  warnings.warn(*warn_args, **warn_kwargs)\n",
      "/anaconda3/lib/python3.7/site-packages/sklearn/utils/deprecation.py:125: FutureWarning: You are accessing a training score ('split4_train_score'), which will not be available by default any more in 0.21. If you need training scores, please set return_train_score=True\n",
      "  warnings.warn(*warn_args, **warn_kwargs)\n",
      "/anaconda3/lib/python3.7/site-packages/sklearn/utils/deprecation.py:125: FutureWarning: You are accessing a training score ('mean_train_score'), which will not be available by default any more in 0.21. If you need training scores, please set return_train_score=True\n",
      "  warnings.warn(*warn_args, **warn_kwargs)\n",
      "/anaconda3/lib/python3.7/site-packages/sklearn/utils/deprecation.py:125: FutureWarning: You are accessing a training score ('std_train_score'), which will not be available by default any more in 0.21. If you need training scores, please set return_train_score=True\n",
      "  warnings.warn(*warn_args, **warn_kwargs)\n",
      "/anaconda3/lib/python3.7/site-packages/scipy/stats/stats.py:1713: FutureWarning: Using a non-tuple sequence for multidimensional indexing is deprecated; use `arr[tuple(seq)]` instead of `arr[seq]`. In the future this will be interpreted as an array index, `arr[np.array(seq)]`, which will result either in an error or a different result.\n",
      "  return np.add.reduce(sorted[indexer] * weights, axis=axis) / sumval\n"
     ]
    },
    {
     "data": {
      "text/plain": [
       "<matplotlib.axes._subplots.AxesSubplot at 0x1a238d5630>"
      ]
     },
     "execution_count": 39,
     "metadata": {},
     "output_type": "execute_result"
    },
    {
     "data": {
      "image/png": "[encoded data removed]",
      "text/plain": [
       "<Figure size 864x360 with 1 Axes>"
      ]
     },
     "metadata": {
      "needs_background": "light"
     },
     "output_type": "display_data"
    }
   ],
   "source": [
    "from sklearn.ensemble import RandomForestRegressor\n",
    "\n",
    "from sklearn.model_selection import RandomizedSearchCV\n",
    "rf_params = {\n",
    "    \"n_estimators\": [100, 200, 300, 400],\n",
    "    \"min_samples_leaf\": [2, 4, 6]\n",
    "}\n",
    "    \n",
    "rf_model = RandomForestRegressor()\n",
    "rmsle_scorer = metrics.make_scorer(rmsle, greater_is_better=False)\n",
    "# grid_rf = GridSearchCV(rf_model, \n",
    "#                        param_grid=rf_params,  \n",
    "#                        scoring=rmsle_scorer, \n",
    "#                        cv = 5)\n",
    "\n",
    "grid_rf = RandomizedSearchCV(rf_model, \n",
    "                            param_distributions=rf_params, \n",
    "                            scoring=rmsle_scorer, \n",
    "                            cv = 5)\n",
    "grid_rf.fit(train_data, train_labels)\n",
    "\n",
    "preds =  grid_rf.predict(test_data)\n",
    "print (grid_rf.best_params_)\n",
    "print (\"RMSLE Value For Random Forest Regression: \",rmsle(test_labels, preds))\n",
    "\n",
    "\n",
    "fig,ax= plt.subplots()\n",
    "fig.set_size_inches(12,5)\n",
    "df = pd.DataFrame(grid_rf.cv_results_)\n",
    "\n",
    "df[\"n_estimators\"] = df[\"params\"].apply(lambda x:x[\"n_estimators\"])\n",
    "df[\"rmsle\"] = df[\"mean_test_score\"].apply(lambda x:-x)\n",
    "sns.pointplot(data=df, x=\"n_estimators\", y=\"rmsle\", ax=ax)\n",
    "\n",
    "\n",
    "# for n_estimator in  [100, 200, 300,400,500]:\n",
    "    \n",
    "# rfModel =  RandomForestRegressor(n_estimators= 400)\n",
    "# rfModel.fit(train_data,train_labels)\n",
    "# preds = rfModel.predict(X= test_data)\n",
    "# print (\"RMSLE Value For Random Forest: \",rmsle(test_labels, preds))"
   ]
  },
  {
   "cell_type": "code",
   "execution_count": 41,
   "metadata": {},
   "outputs": [
    {
     "name": "stdout",
     "output_type": "stream",
     "text": [
      "RMSLE Value For Random Forest:  0.3212005464045944\n"
     ]
    }
   ],
   "source": [
    "rf_model = RandomForestRegressor(n_estimators=400)\n",
    "rf_model.fit(train_data, train_labels)\n",
    "preds = rf_model.predict(test_data)\n",
    "print (\"RMSLE Value For Random Forest: \",rmsle(test_labels, preds))"
   ]
  },
  {
   "cell_type": "markdown",
   "metadata": {},
   "source": [
    "## 4.2 GBDT "
   ]
  },
  {
   "cell_type": "code",
   "execution_count": 42,
   "metadata": {},
   "outputs": [
    {
     "name": "stdout",
     "output_type": "stream",
     "text": [
      "RMSLE Value For Gradient Boost:  0.2976687324590541\n"
     ]
    }
   ],
   "source": [
    "from sklearn.ensemble import GradientBoostingRegressor\n",
    "gbm = GradientBoostingRegressor(n_estimators=2000,alpha=0.01,learning_rate=0.1, max_depth=4); ### Test 0.41\n",
    "# yLabelsLog = np.log1p(yLabels)\n",
    "gbm.fit(train_data,train_labels)\n",
    "preds = gbm.predict(X= test_data)\n",
    "print (\"RMSLE Value For Gradient Boost: \",rmsle(test_labels, preds))"
   ]
  },
  {
   "cell_type": "markdown",
   "metadata": {},
   "source": [
    "## 4.3 XGBoost"
   ]
  },
  {
   "cell_type": "code",
   "execution_count": 44,
   "metadata": {},
   "outputs": [
    {
     "ename": "ModuleNotFoundError",
     "evalue": "No module named 'xgboost'",
     "output_type": "error",
     "traceback": [
      "\u001b[0;31m---------------------------------------------------------------------------\u001b[0m",
      "\u001b[0;31mModuleNotFoundError\u001b[0m                       Traceback (most recent call last)",
      "\u001b[0;32m<ipython-input-44-ca33bec229c0>\u001b[0m in \u001b[0;36m<module>\u001b[0;34m\u001b[0m\n\u001b[1;32m      1\u001b[0m \u001b[0;34m\u001b[0m\u001b[0m\n\u001b[0;32m----> 2\u001b[0;31m \u001b[0;32mfrom\u001b[0m  \u001b[0mxgboost\u001b[0m \u001b[0;32mimport\u001b[0m \u001b[0mXGBRegressor\u001b[0m\u001b[0;34m\u001b[0m\u001b[0;34m\u001b[0m\u001b[0m\n\u001b[0m",
      "\u001b[0;31mModuleNotFoundError\u001b[0m: No module named 'xgboost'"
     ]
    }
   ],
   "source": [
    "\n",
    "from  xgboost import XGBRegressor\n",
    "xgb = XGBRegressor(learning_rate=0.1, \n",
    "                   n_estimators=1200, \n",
    "                   max_depth=4, \n",
    "                   gamma=0, \n",
    "                   subsample=0.8)\n",
    "\n",
    "xgb.fit(train_data, train_labels)\n",
    "preds = xgb.predict(test_data)\n",
    "print(\"RMSLE Value For XGB Boost: \", rmsle(test_labels, preds))\n"
   ]
  },
  {
   "cell_type": "markdown",
   "metadata": {},
   "source": [
    "## 4.4 LoghtGBM"
   ]
  },
  {
   "cell_type": "code",
   "execution_count": 45,
   "metadata": {},
   "outputs": [
    {
     "ename": "ModuleNotFoundError",
     "evalue": "No module named 'lightgbm'",
     "output_type": "error",
     "traceback": [
      "\u001b[0;31m---------------------------------------------------------------------------\u001b[0m",
      "\u001b[0;31mModuleNotFoundError\u001b[0m                       Traceback (most recent call last)",
      "\u001b[0;32m<ipython-input-45-9736823d1ffd>\u001b[0m in \u001b[0;36m<module>\u001b[0;34m\u001b[0m\n\u001b[0;32m----> 1\u001b[0;31m \u001b[0;32mimport\u001b[0m \u001b[0mlightgbm\u001b[0m \u001b[0;32mas\u001b[0m \u001b[0mlgb\u001b[0m\u001b[0;34m\u001b[0m\u001b[0;34m\u001b[0m\u001b[0m\n\u001b[0m\u001b[1;32m      2\u001b[0m \u001b[0;32mfrom\u001b[0m \u001b[0msklearn\u001b[0m\u001b[0;34m.\u001b[0m\u001b[0mgrid_search\u001b[0m \u001b[0;32mimport\u001b[0m \u001b[0mGridSearchCV\u001b[0m\u001b[0;34m\u001b[0m\u001b[0;34m\u001b[0m\u001b[0m\n\u001b[1;32m      3\u001b[0m \u001b[0;34m\u001b[0m\u001b[0m\n\u001b[1;32m      4\u001b[0m \u001b[0;31m# 使用超参数搜索\u001b[0m\u001b[0;34m\u001b[0m\u001b[0;34m\u001b[0m\u001b[0;34m\u001b[0m\u001b[0m\n\u001b[1;32m      5\u001b[0m parameters_space =[{\n",
      "\u001b[0;31mModuleNotFoundError\u001b[0m: No module named 'lightgbm'"
     ]
    }
   ],
   "source": [
    "import lightgbm as lgb\n",
    "from sklearn.grid_search import GridSearchCV\n",
    "\n",
    "# 使用超参数搜索\n",
    "parameters_space =[{\n",
    "    'learning_rate':[0.05, 0.1,0.15,],\n",
    "    'n_estimators':[ 2500 ,3000,3500],\n",
    "}]\n",
    "\n",
    "\n",
    "\n",
    "\n",
    "lgb_model = lgb.LGBMRegressor(objective='regression',num_leaves=5,\n",
    "                              learning_rate=0.3, n_estimators=720,\n",
    "                              max_bin = 55, bagging_fraction = 0.8,\n",
    "                              bagging_freq = 5, feature_fraction = 0.2319,\n",
    "                              feature_fraction_seed=9, bagging_seed=9,\n",
    "                              min_data_in_leaf =6, min_sum_hessian_in_leaf = 11)\n",
    "clf = GridSearchCV(lgb_model, param_grid= parameters_space, cv=5)\n",
    "clf.fit(train_data, train_labels)\n",
    "print(clf.grid_scores_)\n",
    "print(clf.best_params_)\n",
    "\n",
    "\n",
    "# lgb_model.fit(train_data, train_labels)\n",
    "# preds = lgb_model.predict(test_data)\n",
    "\n",
    "# print(\"RMSLE Value For lightGBM models :\", rmsle(preds, test_labels))"
   ]
  },
  {
   "cell_type": "code",
   "execution_count": 63,
   "metadata": {},
   "outputs": [
    {
     "name": "stdout",
     "output_type": "stream",
     "text": [
      "RMSLE Value For lightGBM models : 0.2910853505270705\n"
     ]
    }
   ],
   "source": [
    "# 使用上面超参数搜索的最优参数\n",
    "lgb_model = lgb.LGBMRegressor(objective='regression',num_leaves=5,\n",
    "                              learning_rate=0.1, n_estimators=3500,\n",
    "                              max_bin = 55, bagging_fraction = 0.8,\n",
    "                              bagging_freq = 5, feature_fraction = 0.2319,\n",
    "                              feature_fraction_seed=9, bagging_seed=9,\n",
    "                              min_data_in_leaf =6, min_sum_hessian_in_leaf = 11)\n",
    "\n",
    "lgb_model.fit(train_data, train_labels)\n",
    "preds = lgb_model.predict(test_data)\n",
    "\n",
    "print(\"RMSLE Value For lightGBM models :\", rmsle(preds, test_labels))"
   ]
  },
  {
   "cell_type": "markdown",
   "metadata": {},
   "source": [
    "## 4.5 多模型效果 Stacking\n",
    "### 4.5.1 多模型平均"
   ]
  },
  {
   "cell_type": "code",
   "execution_count": 33,
   "metadata": {},
   "outputs": [],
   "source": [
    "from sklearn.base import BaseEstimator, TransformerMixin, RegressorMixin, clone\n",
    "\n",
    "class AveragingModels(BaseEstimator, RegressorMixin, TransformerMixin):\n",
    "    def __init__(self, models):\n",
    "        self.models = models\n",
    "        \n",
    "    # we define clones of the original models to fit the data in\n",
    "    def fit(self, X, y):\n",
    "        self.models_ = [clone(x) for x in self.models]\n",
    "        \n",
    "        # Train cloned base models\n",
    "        for model in self.models_:\n",
    "            model.fit(X, y)\n",
    "\n",
    "        return self\n",
    "    \n",
    "    #Now we do the predictions for cloned models and average them\n",
    "    def predict(self, X):\n",
    "        predictions = np.column_stack([\n",
    "            model.predict(X) for model in self.models_\n",
    "        ])\n",
    "        return np.mean(predictions, axis=1)"
   ]
  },
  {
   "cell_type": "code",
   "execution_count": 66,
   "metadata": {},
   "outputs": [
    {
     "name": "stdout",
     "output_type": "stream",
     "text": [
      "RMSLE Value For average models(stacking) :  0.4187658633866439\n"
     ]
    }
   ],
   "source": [
    "# 5种模型融合\n",
    "average_models1 = AveragingModels(models=(ENet, lasso, ridge,gbm, rfModel))\n",
    "average_models1.fit(train_data, train_labels)\n",
    "preds = average_models1.predict(test_data)\n",
    "\n",
    "print(\"RMSLE Value For average models(stacking) : \", rmsle(test_labels, preds))"
   ]
  },
  {
   "cell_type": "markdown",
   "metadata": {},
   "source": [
    "5种模型平均：效果一般 0.418"
   ]
  },
  {
   "cell_type": "code",
   "execution_count": 67,
   "metadata": {},
   "outputs": [
    {
     "name": "stdout",
     "output_type": "stream",
     "text": [
      "RMSLE Value For average models(stacking) :  0.29112142032363675\n"
     ]
    }
   ],
   "source": [
    "# 使用效果最好的XGboost 和GBR融合\n",
    "average_models2 = AveragingModels(models=(gbm, xgb))\n",
    "average_models2.fit(train_data, train_labels)\n",
    "preds = average_models2.predict(test_data)\n",
    "\n",
    "print(\"RMSLE Value For average models(stacking) : \", rmsle(test_labels, preds))"
   ]
  },
  {
   "cell_type": "markdown",
   "metadata": {},
   "source": [
    "初步融合结果0.291，可以看到比单模型的0.297 和0.293 要好一些"
   ]
  },
  {
   "cell_type": "code",
   "execution_count": 68,
   "metadata": {},
   "outputs": [
    {
     "name": "stdout",
     "output_type": "stream",
     "text": [
      "RMSLE Value For average models(stacking: gbm+rf+xgb) :  0.2873859940043319\n"
     ]
    }
   ],
   "source": [
    "# 3种模型融合 XGBoost GBR RandomForest\n",
    "average_models3 = AveragingModels(models=(gbm, rfModel, xgb))\n",
    "average_models3.fit(train_data, train_labels)\n",
    "preds = average_models3.predict(test_data)\n",
    "\n",
    "print(\"RMSLE Value For average models(stacking: gbm+rf+xgb) : \", rmsle(test_labels, preds))"
   ]
  },
  {
   "cell_type": "markdown",
   "metadata": {},
   "source": [
    "效果更好：0.286"
   ]
  },
  {
   "cell_type": "code",
   "execution_count": 69,
   "metadata": {},
   "outputs": [
    {
     "name": "stdout",
     "output_type": "stream",
     "text": [
      "RMSLE Value For average models(stacking: gbm+rf+xgb) :  0.28655998890245626\n"
     ]
    }
   ],
   "source": [
    "# 3种模型融合 XGBoost GBR lghtGBM \n",
    "average_models4 = AveragingModels(models=(gbm, lgb_model, xgb))\n",
    "average_models4.fit(train_data, train_labels)\n",
    "preds = average_models4.predict(test_data)\n",
    "\n",
    "print(\"RMSLE Value For average models(stacking: gbm+rf+xgb) : \", rmsle(test_labels, preds))"
   ]
  },
  {
   "cell_type": "markdown",
   "metadata": {},
   "source": [
    "效果还可以：0.286\n",
    "\n",
    "使用4中模型试试"
   ]
  },
  {
   "cell_type": "code",
   "execution_count": 70,
   "metadata": {},
   "outputs": [
    {
     "name": "stdout",
     "output_type": "stream",
     "text": [
      "RMSLE Value For average models(stacking: ) :  0.2840777514023266\n"
     ]
    }
   ],
   "source": [
    "# 4 种模型融合 XGBoost GBR lghtGBM  rf\n",
    "average_models5 = AveragingModels(models=(gbm, lgb_model, xgb, rfModel))\n",
    "average_models5.fit(train_data, train_labels)\n",
    "preds = average_models5.predict(test_data)\n",
    "\n",
    "print(\"RMSLE Value For average models(stacking: ) : \", rmsle(test_labels, preds))"
   ]
  },
  {
   "cell_type": "markdown",
   "metadata": {},
   "source": [
    "### 4.5.2 使用元模型"
   ]
  },
  {
   "cell_type": "code",
   "execution_count": 48,
   "metadata": {},
   "outputs": [],
   "source": [
    "# from sklearn.model_selection import KFold\n",
    "# class StackingAveragedModels(BaseEstimator, RegressorMixin, TransformerMixin):\n",
    "#     def __init__(self, base_models, meta_model, n_folds=5):\n",
    "#         self.base_models = base_models\n",
    "#         self.meta_model = meta_model\n",
    "#         self.n_folds = n_folds\n",
    "   \n",
    "#     # We again fit the data on clones of the original models\n",
    "#     def fit(self, X, y):\n",
    "#         self.base_models_ = [list() for x in self.base_models]\n",
    "#         self.meta_model_ = clone(self.meta_model)\n",
    "#         kfold = KFold(n_splits=self.n_folds, shuffle=True, random_state=156)\n",
    "        \n",
    "#         # Train cloned base models then create out-of-fold predictions\n",
    "#         # that are needed to train the cloned meta-model\n",
    "#         out_of_fold_predictions = np.zeros((X.shape[0], len(self.base_models)))\n",
    "#         for i, model in enumerate(self.base_models):\n",
    "#             for train_index, holdout_index in kfold.split(X, y):\n",
    "#                 instance = clone(model)\n",
    "#                 self.base_models_[i].append(instance)\n",
    "#                 instance.fit(X[train_index], y[train_index])\n",
    "#                 y_pred = instance.predict(X[holdout_index])\n",
    "#                 out_of_fold_predictions[holdout_index, i] = y_pred\n",
    "                \n",
    "#         # Now train the cloned  meta-model using the out-of-fold predictions as new feature\n",
    "#         self.meta_model_.fit(out_of_fold_predictions, y)\n",
    "#         return self\n",
    "   \n",
    "#     #Do the predictions of all base models on the test data and use the averaged predictions as \n",
    "#     #meta-features for the final prediction which is done by the meta-model\n",
    "#     def predict(self, X):\n",
    "#         meta_features = np.column_stack([\n",
    "#             np.column_stack([model.predict(X) for model in base_models]).mean(axis=1)\n",
    "#             for base_models in self.base_models_ ])\n",
    "#         return self.meta_model_.predict(meta_features)"
   ]
  },
  {
   "cell_type": "code",
   "execution_count": 50,
   "metadata": {},
   "outputs": [],
   "source": [
    "# stacked_averaged_models = StackingAveragedModels(base_models = (ENet, gbm, rfModel, ridge),\n",
    "#                                                  meta_model = lasso)\n",
    "\n",
    "# stacked_averaged_models.fit(train_data, train_labels)\n",
    "# preds = stacked_averaged_models.predict(test_data)\n",
    "# print(\"Stacking Averaged models score\", rmsle(test_labels, preds))\n"
   ]
  },
  {
   "cell_type": "markdown",
   "metadata": {},
   "source": [
    "# 5 输出结果\n",
    "## 5.1 按照训练数据格式处理测试数据"
   ]
  },
  {
   "cell_type": "code",
   "execution_count": 71,
   "metadata": {},
   "outputs": [],
   "source": [
    "real_test_data = pd.read_csv('../input/test.csv')\n",
    "real_test_data_ids = real_test_data[\"datetime\"]\n",
    "real_test_data.head(3)\n",
    "\n",
    "real_test_data.datetime =  real_test_data.datetime.apply(pd.to_datetime)\n",
    "real_test_data['month'] = real_test_data.datetime.apply(lambda x: x.month)\n",
    "real_test_data['hour'] = real_test_data.datetime.apply(lambda x:x.hour)\n",
    "real_test_data['year'] = real_test_data.datetime.apply(lambda x:x.year)\n",
    "real_test_data['weekday'] =  real_test_data.datetime.apply(lambda x: x.weekday())\n",
    "\n",
    "# real_test_data.head()\n",
    "\n",
    "numericalFeatureNames = [\"temp\",\"humidity\",\"atemp\"]\n",
    "\n",
    "dropFeatures = [\"datetime\",\"windspeed\"]\n",
    "\n",
    "categryVariable = ['season', 'holiday',\"workingday\",\"weather\",\"month\",\"hour\",\"weekday\"]\n",
    "\n",
    "for category in categryVariable:\n",
    "    dummy = pd.get_dummies(real_test_data[category], prefix=category)\n",
    "    real_test_data  = real_test_data.join(dummy)\n",
    "\n",
    "real_test_data= real_test_data.drop(categryVariable, axis=1)\n",
    "real_test_data = real_test_data.drop(dropFeatures, axis=1)"
   ]
  },
  {
   "cell_type": "code",
   "execution_count": 72,
   "metadata": {},
   "outputs": [
    {
     "data": {
      "text/plain": [
       "Index(['temp', 'atemp', 'humidity', 'year', 'season_1', 'season_2', 'season_3',\n",
       "       'season_4', 'holiday_0', 'holiday_1', 'workingday_0', 'workingday_1',\n",
       "       'weather_1', 'weather_2', 'weather_3', 'weather_4', 'month_1',\n",
       "       'month_2', 'month_3', 'month_4', 'month_5', 'month_6', 'month_7',\n",
       "       'month_8', 'month_9', 'month_10', 'month_11', 'month_12', 'hour_0',\n",
       "       'hour_1', 'hour_2', 'hour_3', 'hour_4', 'hour_5', 'hour_6', 'hour_7',\n",
       "       'hour_8', 'hour_9', 'hour_10', 'hour_11', 'hour_12', 'hour_13',\n",
       "       'hour_14', 'hour_15', 'hour_16', 'hour_17', 'hour_18', 'hour_19',\n",
       "       'hour_20', 'hour_21', 'hour_22', 'hour_23', 'weekday_0', 'weekday_1',\n",
       "       'weekday_2', 'weekday_3', 'weekday_4', 'weekday_5', 'weekday_6'],\n",
       "      dtype='object')"
      ]
     },
     "execution_count": 72,
     "metadata": {},
     "output_type": "execute_result"
    }
   ],
   "source": [
    "real_test_data.columns"
   ]
  },
  {
   "cell_type": "markdown",
   "metadata": {},
   "source": [
    "## 5.2 预测数据、保存结果"
   ]
  },
  {
   "cell_type": "code",
   "execution_count": 73,
   "metadata": {},
   "outputs": [],
   "source": [
    "# 使用效果最好的stcking模型 average_model5 进行预测\n",
    "real_test_prediction = average_models5.predict(real_test_data)\n",
    "real_test_prediction = np.expm1(real_test_prediction)"
   ]
  },
  {
   "cell_type": "code",
   "execution_count": 74,
   "metadata": {},
   "outputs": [
    {
     "data": {
      "text/html": [
       "<div>\n",
       "<style scoped>\n",
       "    .dataframe tbody tr th:only-of-type {\n",
       "        vertical-align: middle;\n",
       "    }\n",
       "\n",
       "    .dataframe tbody tr th {\n",
       "        vertical-align: top;\n",
       "    }\n",
       "\n",
       "    .dataframe thead th {\n",
       "        text-align: right;\n",
       "    }\n",
       "</style>\n",
       "<table border=\"1\" class=\"dataframe\">\n",
       "  <thead>\n",
       "    <tr style=\"text-align: right;\">\n",
       "      <th></th>\n",
       "      <th>count</th>\n",
       "      <th>datetime</th>\n",
       "    </tr>\n",
       "  </thead>\n",
       "  <tbody>\n",
       "    <tr>\n",
       "      <th>0</th>\n",
       "      <td>10.851295</td>\n",
       "      <td>2011-01-20 00:00:00</td>\n",
       "    </tr>\n",
       "    <tr>\n",
       "      <th>1</th>\n",
       "      <td>3.482689</td>\n",
       "      <td>2011-01-20 01:00:00</td>\n",
       "    </tr>\n",
       "    <tr>\n",
       "      <th>2</th>\n",
       "      <td>3.106510</td>\n",
       "      <td>2011-01-20 02:00:00</td>\n",
       "    </tr>\n",
       "    <tr>\n",
       "      <th>3</th>\n",
       "      <td>2.383235</td>\n",
       "      <td>2011-01-20 03:00:00</td>\n",
       "    </tr>\n",
       "    <tr>\n",
       "      <th>4</th>\n",
       "      <td>1.423621</td>\n",
       "      <td>2011-01-20 04:00:00</td>\n",
       "    </tr>\n",
       "  </tbody>\n",
       "</table>\n",
       "</div>"
      ],
      "text/plain": [
       "       count             datetime\n",
       "0  10.851295  2011-01-20 00:00:00\n",
       "1   3.482689  2011-01-20 01:00:00\n",
       "2   3.106510  2011-01-20 02:00:00\n",
       "3   2.383235  2011-01-20 03:00:00\n",
       "4   1.423621  2011-01-20 04:00:00"
      ]
     },
     "execution_count": 74,
     "metadata": {},
     "output_type": "execute_result"
    }
   ],
   "source": [
    "submission = pd.DataFrame({\n",
    "        \"datetime\": real_test_data_ids,\n",
    "        \"count\": [max(0, x) for x in real_test_prediction]\n",
    "    })\n",
    "submission.head()"
   ]
  },
  {
   "cell_type": "code",
   "execution_count": 75,
   "metadata": {},
   "outputs": [],
   "source": [
    "submission.to_csv('../result/stacking.csv', index= False)\n",
    "\n",
    "# 最终分数0.40063，大概在233/3251 值得注意的是，在将label log1p之前，分数只有0.49， 通过将y值label平滑处理，可以很大程序提高预测准确度\n",
    "# 参数调优部分可以使用GridSearch 再试试，尤其是 GBM和RF两部分的参数调优，可以再试试看能不能达到更好的效果\n",
    "# 接下来可以使用 XGboost试试"
   ]
  },
  {
   "cell_type": "markdown",
   "metadata": {},
   "source": [
    "\n",
    "# 总结"
   ]
  },
  {
   "cell_type": "markdown",
   "metadata": {},
   "source": [
    "\n",
    "特征工程部分，参考了kaggle上的部分kernel，主要技巧是：  \n",
    "1 抽取时间特征并one-hot编码（pd.get_dummies）\n",
    "2 分析特征之间的相关性，去除不必要特征\n",
    "3 需要对label标签平滑处理，可以画出label的变化曲线，分析是否平滑，这一步将分数从0.49提高到0.40，直接进入top 10（233位）\n",
    "\n",
    "接下来：\n",
    "\n",
    "1  使用GridSearch 尝试RandomForest 和GBR 的参数调优，看看能不能达到更好的结果\n",
    "2  尝试使用XGBoost\n",
    "\n",
    "https://www.kaggle.com/valeriyparubets/sklearn-gbr-0-413/code GridSearchCV\n",
    "\n",
    "```\n",
    "\n",
    "更新：使用融合模型  average_models5 后，最终的分数在0.38406 排到135位\n",
    "\n",
    "# 最终分数0.40063，大概在233/3251 值得注意的是，在将label log1p之前，分数只有0.49， 通过将y值label平滑处理，可以很大程序提高预测准确度\n",
    "# 参数调优部分可以使用GridSearch 再试试，尤其是 GBM和RF两部分的参数调优，可以再试试看能不能达到更好的效果\n",
    "# 接下来可以使用 XGboost试试\n",
    "\n",
    "```"
   ]
  },
  {
   "cell_type": "code",
   "execution_count": null,
   "metadata": {},
   "outputs": [],
   "source": []
  }
 ],
 "metadata": {
  "kernelspec": {
   "display_name": "Python 3",
   "language": "python",
   "name": "python3"
  },
  "language_info": {
   "codemirror_mode": {
    "name": "ipython",
    "version": 3
   },
   "file_extension": ".py",
   "mimetype": "text/x-python",
   "name": "python",
   "nbconvert_exporter": "python",
   "pygments_lexer": "ipython3",
   "version": "3.7.1"
  }
 },
 "nbformat": 4,
 "nbformat_minor": 1
}
